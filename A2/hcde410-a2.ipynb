{
 "cells": [
  {
   "cell_type": "markdown",
   "metadata": {},
   "source": [
    "# Assignment 2: Exploring sources of bias in data\n",
    "## Bias in data, demystified\n",
    "\n",
    "**All datasets have limitations. Any of these limitations can be a potential source of bias.** In the context of data, a \"bias\" is really just a divergence between what a dataset is supposed to capture about the world--according to the *dataset designer's intention*, or according to the *end-user's expectations*--and what's actually represented in the data. \n",
    "\n",
    "So biases in data are often highly *contextual*, which can make them subtle and hard to spot. Similarly, it's hard to predict ahead of time what the *consequences* of those biases might be, because it depends on what the data is being used for."
   ]
  },
  {
   "cell_type": "markdown",
   "metadata": {},
   "source": [
    "Nevertheless some sources of \"bias\" in data show up over and over again. Some of these are:\n",
    "- **duplicated data:** the same data shows up multiple times\n",
    "- **incomplete data:** some data is missing from the dataset\n",
    "- **misleading data:** it looks like a piece of data means one thing, but it actually means something different\n",
    "- **unrepresentative data:** the dataset doesn't represent the population it's gathered from OR the population it's intended to model\n",
    "\n",
    "\n",
    "Any of these sources of bias, unless their properly documented (with a data statement, etc) can have unintended consequences: they cause a researcher who is using the data to reach incorrect conclusions, or cause a machine learning model that is trained on that dataset to make classification errors.\n",
    "\n",
    "The nature or scale of these consequences can be hard to predict. That's why any time you prepare to use data that you didn't gather yourself, it pays to spend some time exploring the dataset, identifying limitations, and thinking critically about how these limitations might affect your analysis or your machine learning model."
   ]
  },
  {
   "cell_type": "markdown",
   "metadata": {},
   "source": [
    "## Introduction to Assignment 2\n",
    "For this assignment, you'll be working with the Wikipedia Talk Corpus. You have already created a data statement for this dataset in class, so you're an 'expert' on it compared to most people!\n",
    "\n",
    "**In assignment 1, you learned how to process and analyze a dataset created by someone else.** In that assignment, we took the dataset at face value: we assumed that there were no major errors, no missing data, nothing that would skew our results. We assumed that the dataset really did accurately capture all the bike and pedestrian traffic on the Burke-Gilman trail over the specified period of time.\n",
    "\n",
    "**In assignment 2, we'll also be analyzing a dataset created by someone else,** but this time *we won't assume that the data is complete and correct.* Instead, we will try to identify ways in which the data might be WRONG, and form hypotheses about how the limitations we discover might make it an unsuitable, or at least a potentially problematic, training dataset for a general-purpose hostile speech detector. \n",
    "\n",
    "**There are 16 questions in this assignment, across three sections:**\n",
    "\n",
    "***In part 1 of this assignment,*** you will load one type of Wikipedia Talk Corpus data--the demographics of the crowdworkers who labelled the comments--into your copy of this Jupyter Notebook, and we will walk through a series of data processing steps, with the goal of ending up with a complete and accurate set of data about all of those crowdworkers. In the process, we will discover and discuss several limitations of the dataset.\n",
    "\n",
    "***In part 2 of this assignment,*** you will generate some basic descriptive statistics about the demographics of the crowdworkers described in that dataset. If you are comfortable in Python, you can perform that analysis in this Notebook. If you aren't as comfortable in Python (yet!), you can perform the analysis in Google Sheets (just be sure to link to that Google Sheet from this notebook, and set the permissions so that your instructors can view it!). \n",
    "\n",
    "***In part 3 of this assignment,*** you will answer some additional research questions about this dataset. Some of these questions can be answered without writing additional code or analyzing additional data; other questions will require you to combine this dataset another dataset in the corpus. You will have the option to choose whether you want to answer code or no-code questions.\n",
    "\n",
    "Whether you choose code or no-code question for part 3, you will need to write your responses to the question within this notebook, and submit a link to this notebook for grading.\n",
    "\n",
    "Part 3 also contains some optional \"challenge\" questions that you can investigate if you want to (hint: any one of these challenge questions could be the focus of a final course project).\n",
    "\n",
    "\n",
    "***Note:*** *Since the purpose of this class is to get you comfortable thinking critically (like a researcher), rather than programming perfectly, you won't be graded on your code. You'll be graded on how well you DOCUMENT YOUR PROCESS and REFLECT on the implications of your findings. If you still aren't sure what that means, ask your instructor or TA!*"
   ]
  },
  {
   "cell_type": "markdown",
   "metadata": {},
   "source": [
    "## Part 1: Cleaning and analyzing the annotator demographic data\n",
    "\n",
    "For the first part of this assignment, we're going to prepare one set of Wikipedia Talk data--the annotator demographics files--for analysis. In the process we'll perform a few \"sanity checks\" to make sure we understand what the data means, and know any limitations.\n",
    "\n",
    "This sort of \"[data wrangling](https://en.wikipedia.org/wiki/Data_wrangling)\" is a critical, if sometimes tedious, first step for any quantitative research project."
   ]
  },
  {
   "cell_type": "markdown",
   "metadata": {},
   "source": [
    "### 1.1 Load the data into the notebook\n",
    "\n",
    "According to the documetation, the worker demographic data for the Wikipedia Talk Corpus is spread across three files:\n",
    "- ``toxicity_worker_demographics.tsv``\n",
    "- ``aggression_worker_demographics.tsv``\n",
    "- ``attack_worker_demographics.tsv``\n",
    "\n",
    "We will need to combine the data in these three files to come up with our canonical list of workers. \n",
    "**Just like working with data in the real world, you will need to retrieve the files from their source (Figshare) and transfer them into your notebook server**.\n",
    "\n",
    "- **Toxicity dataset:** [data](https://figshare.com/articles/dataset/Wikipedia_Talk_Labels_Toxicity/4563973) (Note: this is 35Mb!), [documentation](https://meta.wikimedia.org/wiki/Research:Detox/Data_Release#Toxicity), [questionnaire shown to crowdworkers](https://github.com/ewulczyn/wiki-detox/blob/master/src/modeling/toxicity_question.png)\n",
    "- **Aggression dataset:** [data](https://figshare.com/articles/dataset/Wikipedia_Talk_Labels_Aggression/4267550) (Note: this is 74Mb!), [documentation](https://meta.wikimedia.org/wiki/Research:Detox/Data_Release#Aggression), [questionnaire shown to crowdworkers](https://github.com/ewulczyn/wiki-detox/blob/master/src/modeling/aggression_question.png)\n",
    "- **Personal attacks dataset:** [data](https://figshare.com/articles/dataset/Wikipedia_Talk_Labels_Personal_Attacks/4054689) (this is only 92k), [documentation](https://meta.wikimedia.org/wiki/Research:Detox/Data_Release#Personal_Attacksv), [questionnaire shown to crowdworkers](https://github.com/ewulczyn/wiki-detox/blob/master/src/modeling/attack_question.png)\n",
    "\n",
    "First we'll load each of the annotator datafiles into our Notebook and save them into data structures that's easy to work with. In this case, I'm choosing to save each of these files as a list-of-dictionaries, since that's fairly standard, and it makes it easy to check your work as you go.\n",
    "\n",
    "By the way: ``.tsv`` stands for \"tab-separated values\", and it means that this file is organized into rows and columns, like a spreadsheet, and the data values for each column are separated by \"tab\" characters."
   ]
  },
  {
   "cell_type": "code",
   "execution_count": 1,
   "metadata": {},
   "outputs": [
    {
     "name": "stdout",
     "output_type": "stream",
     "text": [
      "/usr/local/bin/python3.7\n",
      "3.7.2 (v3.7.2:9a3ffc0492, Dec 24 2018, 02:44:43) \n",
      "[Clang 6.0 (clang-600.0.57)]\n",
      "sys.version_info(major=3, minor=7, micro=2, releaselevel='final', serial=0)\n"
     ]
    }
   ],
   "source": [
    "#for debugging puproses only\n",
    "import sys\n",
    "print(sys.executable)\n",
    "print(sys.version)\n",
    "print(sys.version_info)"
   ]
  },
  {
   "cell_type": "code",
   "execution_count": 2,
   "metadata": {
    "tags": []
   },
   "outputs": [],
   "source": [
    "#import the csv module, a little code toolkit for working with spreadsheet-style data files\n",
    "import csv"
   ]
  },
  {
   "cell_type": "markdown",
   "metadata": {},
   "source": [
    "The function below will load in a tab-separated (.tsv) file and convert it into a lists-of-dictionaries. \n",
    "\n",
    "If you don't have much experience with Python, this (and some of the other code in this notebook) might be hard to understand. That's okay! For now, it's most important that you know what it does.\n",
    "\n",
    "If you have a ***lot*** of experience with Python, the code in this notebook might seem really, really primitive. That's also okay! Remember: in this course we're primarily interested in data, not code. Code is just one of the many tools we use to ask and answer questions about data."
   ]
  },
  {
   "cell_type": "code",
   "execution_count": 3,
   "metadata": {
    "tags": []
   },
   "outputs": [],
   "source": [
    "def prepare_datasets(file_path):\n",
    "    \"\"\" \n",
    "    Accepts: path to a tab-separated plaintext file\n",
    "    Returns: a list containing a dictionary for every row in the file, \n",
    "        with the file column headers as keys\n",
    "    \"\"\"\n",
    "    \n",
    "    with open(file_path) as infile:\n",
    "        reader = csv.DictReader(infile, delimiter='\\t')\n",
    "        list_of_dicts = [dict(r) for r in reader]\n",
    "        \n",
    "    return list_of_dicts"
   ]
  },
  {
   "cell_type": "markdown",
   "metadata": {},
   "source": [
    "### 1.2 Identifying duplicated datafiles\n",
    "Let's load our three .tsv files into Python and store them as three variables with relevant names, so that we know which is which. \n",
    "\n",
    "Once we've created these three lists-of-dicts, we will do two things to check our work so far: \n",
    "- we will print the first annotator's demographic data (list index ``[0]``) so that we know what the format looks like\n",
    "- we will print the length of each list (the ``len`` function), to see how many rows is in each file. Each row should correspond to one crowdworker/annotator.\n",
    "\n",
    "***Note:*** for the cell below to run, your version of these datafiles and folders will need have the same names as the ones below, and your version of this Notebook will need to be stored in the same directory as the three folders that hold the datafiles."
   ]
  },
  {
   "cell_type": "code",
   "execution_count": 4,
   "metadata": {},
   "outputs": [
    {
     "name": "stdout",
     "output_type": "stream",
     "text": [
      "{'worker_id': '85', 'gender': 'female', 'english_first_language': '0', 'age_group': '18-30', 'education': 'bachelors'}\n",
      "3591\n",
      "{'worker_id': '833', 'gender': 'female', 'english_first_language': '0', 'age_group': '45-60', 'education': 'bachelors'}\n",
      "2190\n",
      "{'worker_id': '833', 'gender': 'female', 'english_first_language': '0', 'age_group': '45-60', 'education': 'bachelors'}\n",
      "2190\n"
     ]
    }
   ],
   "source": [
    "#load the data from the flat files into three lists-of-dictionaries\n",
    "toxicity_annotators = prepare_datasets(\"annotationdatasets/toxicity_worker_demographics.tsv\")\n",
    "print(toxicity_annotators[0])\n",
    "print(len(toxicity_annotators))\n",
    "\n",
    "attack_annotators = prepare_datasets(\"annotationdatasets/attack_worker_demographics.tsv\")\n",
    "print(attack_annotators[0])\n",
    "print(len(attack_annotators))\n",
    "\n",
    "aggression_annotators = prepare_datasets(\"annotationdatasets/attack_worker_demographics.tsv\")\n",
    "print(aggression_annotators[0])\n",
    "print(len(aggression_annotators))\n",
    "\n"
   ]
  },
  {
   "cell_type": "markdown",
   "metadata": {},
   "source": [
    "Interesting! This tells us a few things that we didn't know before:\n",
    "1. it looks like the demographic data matches what's listed in [the schema](https://meta.wikimedia.org/wiki/Research:Detox/Data_Release#Schema_for_{attack/aggression/toxicity}_worker_demographics.tsv), which is great!\n",
    "2. it looks like the \"toxicity\" dataset was annotated by a lot more people (3,591) than the \"attack\" or \"aggression\" datasets (2,190)\n",
    "3. ``aggression_worker_demographics.tsv`` and ``attack_worker_demographics.tsv`` seem to contain the same number of workers, and the worker at the beginning of each list has the same ID and demographic data."
   ]
  },
  {
   "cell_type": "markdown",
   "metadata": {},
   "source": [
    "Let's dig a little deeper into finding #3. Are the ***last*** entries in both of these lists also identical?"
   ]
  },
  {
   "cell_type": "code",
   "execution_count": 5,
   "metadata": {},
   "outputs": [
    {
     "name": "stdout",
     "output_type": "stream",
     "text": [
      "{'worker_id': '3876', 'gender': 'female', 'english_first_language': '1', 'age_group': '30-45', 'education': 'bachelors'}\n",
      "{'worker_id': '3876', 'gender': 'female', 'english_first_language': '1', 'age_group': '30-45', 'education': 'bachelors'}\n"
     ]
    }
   ],
   "source": [
    "print(attack_annotators[-1]) # \"-1\" tells Python to find the last item in any list\n",
    "print(aggression_annotators[-1])\n"
   ]
  },
  {
   "cell_type": "markdown",
   "metadata": {},
   "source": [
    "Yes, the last rows in these two lists are also identical! \n",
    "\n",
    "And in fact if you had opened the two lists in a text editor or spreadsheet program, you would find that the *aggression and attack .tsv files contain exactly the same data.* By the way, it doesn't say anywhere in the dataset documentation that these two files are identical!\n",
    "\n",
    "That brings us to our first lesson about bias: watch out for duplicate data! \n",
    "\n",
    "Consider: *What would have happened if we had just combined these three files and then analyzed the worker demographics? What mistaken conclusions might we have drawn from that?*\n",
    "\n",
    ">Combining all three datasets would lead to increased file sizes making programs run longer than it needs to be. If we were to compare demographic data of the annotators, then we would see a greater representation of those that are duplicated.\n",
    " \n",
    "Fortunately, now that we know that there is duplicate data we can work around it. Since two files are identical, we only need to use one of them. So from now on, we will ignore ``aggression_annotators`` entirely. \n",
    "\n",
    "Since we want to remember that ``attack_annotators`` really refers to both \"attack\" and \"aggression\" annotators, we can just rename the variable we're using to store that dataset."
   ]
  },
  {
   "cell_type": "code",
   "execution_count": 6,
   "metadata": {
    "tags": []
   },
   "outputs": [],
   "source": [
    "#attack and aggrogated annotators are merged into one file\n",
    "attack_aggro_annotators = attack_annotators"
   ]
  },
  {
   "cell_type": "markdown",
   "metadata": {},
   "source": [
    "Okay, that looks good. Now we can continue getting our data ready for analysis--while keeping an eye out for additional duplicate data and other \"gotchas\"!"
   ]
  },
  {
   "cell_type": "markdown",
   "metadata": {},
   "source": [
    "### 1.3 Understanding what the properties of your data really mean\n",
    "\n",
    "Whenever you are working with data that you didn't create, it's very useful to perform some basic sanity-checking to make sure the data actually means what you think it means. \n",
    "\n",
    "For example, take the ``worker_id`` field in our datasets. \n",
    "\n",
    "The [schema](https://meta.wikimedia.org/wiki/Research:Detox/Data_Release#Schema_for_{attack/aggression/toxicity}_worker_demographics.tsv) says that the ``worker_id`` field contains an \"anonymized crowd-worker id\" and that this ID is meant to join the worker demographics datafiles with the annotator comments datafiles, so that if we wanted find all of the comments that worker \"85\" (from above) labelled, we could find her by looking for that ID in each row of ``toxicity_annotated_comments.tsv``.\n",
    "\n",
    "So far, so good. But since we want to combine the toxicity and attack + aggression annotator demographics data into a single dataset, we probably want to know...\n",
    "\n",
    "1. did any of the values for ``worker_id`` appear in both datasets?\n",
    "2. if so, do they correspond to the same person (or at least, a person with matching gender, age group, etc.)?"
   ]
  },
  {
   "cell_type": "markdown",
   "metadata": {},
   "source": [
    "### 1.4 Checking for duplicate worker IDs\n",
    "\n",
    "If we want to see if worker_id means the same thing across datasets, the first step is to see if any of the same worker_ids exist across the two datasets.\n",
    "\n",
    "To check this, let's first pull all the worker IDs out of each dataset and combine them into a single list. Then we can check that list to see if it contains any duplicate values. If it does, we know that there is at least 1 value for ``worker_id`` that appears in both datasets.\n",
    "\n",
    "**Note:** *We're assuming that there are no duplicate values for ``worker_id`` within each dataset. (There aren't, I checked). It's a pretty safe assumption though, because worker_id is intended to be a unique key that links the ``worker_demographics.tsv`` files and the ``annotated_comments.tsv`` datasets. Can you explain why it would be an issue if there were duplicate values for ``worker_id`` within an individual dataset?*\n",
    "\n",
    ">Similar to the previous response if there were duplicated worker_id values within the same .tsv file, then it could create an overrepresentation of those duplicated demographics. But in addition, it would challenge the validity of the datasets. If the worker_id isn't unique to a single person, then our previous technique of merging both datasets would be erasing the existence of those workers who share a worker_id. The worker_id is critical for keeping track of individuals' accuracy so it becomes an issue of creating autonomy for the right individual."
   ]
  },
  {
   "cell_type": "code",
   "execution_count": 7,
   "metadata": {
    "tags": []
   },
   "outputs": [],
   "source": [
    "#pull the worker ids out of the individual files into two lists\n",
    "tox_w_ids = [item['worker_id'] for item in toxicity_annotators]\n",
    "aa_w_ids = [item['worker_id'] for item in attack_aggro_annotators]\n",
    "\n",
    "\n",
    "#create a new list to hold all the ids from both lists\n",
    "all_w_ids = tox_w_ids + aa_w_ids\n",
    "\n",
    "# #combine the two worker_id lists into the new list OLD way\n",
    "# all_w_ids.extend(tox_w_ids)\n",
    "# all_w_ids.extend(aa_w_ids)"
   ]
  },
  {
   "cell_type": "code",
   "execution_count": 8,
   "metadata": {},
   "outputs": [
    {
     "name": "stdout",
     "output_type": "stream",
     "text": [
      "5781\n"
     ]
    }
   ],
   "source": [
    "#how many worker ids do we have, total? \n",
    "#this number should match the total count of toxicity_annotators and attack_aggro_annotators (3591 + 2190 = 5781)\n",
    "print(len(all_w_ids))"
   ]
  },
  {
   "cell_type": "code",
   "execution_count": 9,
   "metadata": {},
   "outputs": [
    {
     "name": "stdout",
     "output_type": "stream",
     "text": [
      "['85', '1617', '1394', '311', '1980']\n"
     ]
    }
   ],
   "source": [
    "#what does our new list look like? Let's print the first five values\n",
    "print(all_w_ids[0:5]) #splice splice"
   ]
  },
  {
   "cell_type": "markdown",
   "metadata": {},
   "source": [
    "Below is our duplicate-checker function. You pass it a list of values, and it will return \"True\" if it finds at least 1 duplicate value in that list. Can you figure out how it works?\n",
    ">A set is a data structure that can only hold unique values. As a for loop iterates through the entire worker_id list, it adds those IDs to the set, holding iterable. If a value already exists within the set iterable, then it isn't added and the detection variable for duplicated data is set true."
   ]
  },
  {
   "cell_type": "code",
   "execution_count": 10,
   "metadata": {
    "tags": []
   },
   "outputs": [],
   "source": [
    "#write a function\n",
    "def determine_dupes(w_ids):\n",
    "    set_of_ids = set() #empty sequence of distinct values to prevent multiple additions\n",
    "    \n",
    "    found_a_dupe = False #binary goes on true/false\n",
    "    #for a value in list\n",
    "    for w in w_ids:\n",
    "        if w in set_of_ids:\n",
    "            #if value in a holding list, does not add\n",
    "            found_a_dupe = True\n",
    "            #change binary to true\n",
    "        else:\n",
    "            set_of_ids.add(w)\n",
    "            #add to the set\n",
    "\n",
    "    return found_a_dupe"
   ]
  },
  {
   "cell_type": "code",
   "execution_count": 11,
   "metadata": {},
   "outputs": [
    {
     "name": "stdout",
     "output_type": "stream",
     "text": [
      "True\n"
     ]
    }
   ],
   "source": [
    "#we'll call determine_dupes to check for duplicates in the combined worker id list\n",
    "has_dupes = determine_dupes(all_w_ids)\n",
    "\n",
    "#if this prints 'True', that means we found at least one duplicate ID\n",
    "print(has_dupes)"
   ]
  },
  {
   "cell_type": "markdown",
   "metadata": {},
   "source": [
    "Hmmm... So it looks like there's at least 1 duplicate! Okay, we'll need to do some additional verification before we can decide what to do with that information. \n",
    "\n",
    "The next thing we'll do is check how many duplicates there are. We'll write a short script that reads through ``all_w_ids`` and every time it finds a value that appears more than once, it adds that value to a new list.\n",
    "\n",
    "Can you figure out how the script below works?\n",
    ">The cell starts with an empty list to hold identified worker_id values. Then it goes through all worker_id values in the master list to look for recurring IDs. If that particular worker_id is mentioned more than once in the dataset it's added to the length dataset.\n",
    "\n",
    ">This for loop goes through all datasets, regardless of whether or not the worker_id has already been included in dupes list. For both instances where the worker_id is mentioned, they become included in the dupes list. This method assumes that the worker_id is mentioned once per dataset; in  aggro&attack and toxcity files. If the worker_id is duplicated by being mentioned in both, the true number of duplicated values is half the number of mentions."
   ]
  },
  {
   "cell_type": "code",
   "execution_count": 12,
   "metadata": {},
   "outputs": [
    {
     "name": "stdout",
     "output_type": "stream",
     "text": [
      "3716\n",
      "1858.0\n"
     ]
    }
   ],
   "source": [
    "#create an empty list to hold any duplicate worker_id values we find\n",
    "dupes = []\n",
    "\n",
    "#look through the data, if you encounter any value more than once, add it to our 'dupes' list\n",
    "for w in all_w_ids:\n",
    "    if all_w_ids.count(w) > 1:\n",
    "        dupes.append(w)\n",
    "\n",
    "#how many values were added to 'dupes'?        \n",
    "print(len(dupes))\n",
    "\n",
    "#how many worker_ids are present twice in the dataset?\n",
    "#can you explain why we are dividing the length of \"dupes\" by 2 in order to answer that question?\n",
    "print(len(dupes)/2)"
   ]
  },
  {
   "cell_type": "markdown",
   "metadata": {},
   "source": [
    "Huh, so it looks like 1,858 of the ``worker_ids`` in our merged dataset are duplicates! That's a lot of duplication, since our list was only 5,781 rows in the first place, including these dupes! \n",
    "\n",
    "We will definitely need to account for these duplicates before we start analyzing worker demographics. \n",
    "- If the duplicate ``worker_id``s have different demographic metadata, we will assume they are different people with the same ID. \n",
    "- If the metadata is identical, then we know we can safely remove the duplicates\n",
    "- If some metadata is identical and some is different... well, let's hope that's not the case!"
   ]
  },
  {
   "cell_type": "markdown",
   "metadata": {},
   "source": [
    "### 1.5 Check for duplicate worker demographic metadata\n",
    "Let's see if it's just the value for ``worker_id`` that is duplicated across the two datasets (meaning that the these duplicate ids correspond to different workers with different demographics), or if ``worker_id`` really corresponds to the same people across ``toxicity_annotators`` and ``attack_annotators``."
   ]
  },
  {
   "cell_type": "markdown",
   "metadata": {},
   "source": [
    "To do this we'll perform some spot checks, meaning we'll visually compare the demographic data of workers with duplicate IDs, to see if they look like the same worker, or not. Running random 'spot checks' is a really common and useful way of finding systematic issues with your data without having to check every entry. \n",
    " \n",
    "\n",
    "First, we'll extract 10 random ids from our dupe set. Using a random sample (rather than just looking at the first 10 rows, for instance) helps us be more confident that any patterns we see are really there."
   ]
  },
  {
   "cell_type": "code",
   "execution_count": 13,
   "metadata": {
    "jupyter": {
     "outputs_hidden": true
    }
   },
   "outputs": [],
   "source": [
    "#handy Python library that lets you select things randomly from a list\n",
    "import random"
   ]
  },
  {
   "cell_type": "code",
   "execution_count": 14,
   "metadata": {},
   "outputs": [
    {
     "name": "stdout",
     "output_type": "stream",
     "text": [
      "['1420', '471', '3299', '2962', '1787', '2375', '818', '2875', '1154', '3415']\n"
     ]
    }
   ],
   "source": [
    "#convert our 'dupes' list into a set\n",
    "#bonus: can you explain why we created \"dupeset\" rather than just grabbing 10 random values from \"dupes\"?\n",
    "#hint: in Python, a 'set' is like a list that can only contain a single instance of any value\n",
    "dupeset = set(dupes)\n",
    "\n",
    "#store our random sample of dupes in its own list\n",
    "dupe_sample = random.sample(dupeset, 10)\n",
    "\n",
    "#print to confirm everything looks how we expect it to...\n",
    "print(dupe_sample)"
   ]
  },
  {
   "cell_type": "markdown",
   "metadata": {},
   "source": [
    "*Can you explain why we created \"dupeset\" rather than just grabbing 10 random values from \"dupes\"*\n",
    "\n",
    ">The list dupes has repeating values while a set() datatype removes those repeating worker_ids."
   ]
  },
  {
   "cell_type": "markdown",
   "metadata": {},
   "source": [
    "Now, we'll use this ``dupe_sample`` list that we created to pull the corresponding worker demographics from each of our two datasets, using the function below. See if you can figure out how the function works!"
   ]
  },
  {
   "cell_type": "code",
   "execution_count": 15,
   "metadata": {},
   "outputs": [
    {
     "name": "stdout",
     "output_type": "stream",
     "text": [
      "{'worker_id': '1420', 'gender': 'female', 'english_first_language': '0', 'age_group': '30-45', 'education': 'professional'}\n",
      "{'worker_id': '1420', 'gender': 'female', 'english_first_language': '0', 'age_group': '18-30', 'education': 'bachelors'}\n",
      "{'worker_id': '471', 'gender': 'male', 'english_first_language': '0', 'age_group': '18-30', 'education': 'professional'}\n",
      "{'worker_id': '471', 'gender': 'female', 'english_first_language': '0', 'age_group': '18-30', 'education': 'hs'}\n",
      "{'worker_id': '3299', 'gender': 'male', 'english_first_language': '0', 'age_group': '30-45', 'education': 'bachelors'}\n",
      "{'worker_id': '3299', 'gender': 'female', 'english_first_language': '0', 'age_group': '18-30', 'education': 'hs'}\n",
      "{'worker_id': '2962', 'gender': 'male', 'english_first_language': '0', 'age_group': '18-30', 'education': 'hs'}\n",
      "{'worker_id': '2962', 'gender': 'male', 'english_first_language': '0', 'age_group': '45-60', 'education': 'professional'}\n",
      "{'worker_id': '1787', 'gender': 'female', 'english_first_language': '0', 'age_group': '45-60', 'education': 'masters'}\n",
      "{'worker_id': '1787', 'gender': 'female', 'english_first_language': '0', 'age_group': '18-30', 'education': 'bachelors'}\n",
      "{'worker_id': '2375', 'gender': 'female', 'english_first_language': '1', 'age_group': '30-45', 'education': 'bachelors'}\n",
      "{'worker_id': '2375', 'gender': 'male', 'english_first_language': '0', 'age_group': '18-30', 'education': 'bachelors'}\n",
      "{'worker_id': '818', 'gender': 'female', 'english_first_language': '1', 'age_group': '30-45', 'education': 'bachelors'}\n",
      "{'worker_id': '818', 'gender': 'female', 'english_first_language': '1', 'age_group': '45-60', 'education': 'hs'}\n",
      "{'worker_id': '2875', 'gender': 'male', 'english_first_language': '0', 'age_group': '30-45', 'education': 'masters'}\n",
      "{'worker_id': '2875', 'gender': 'male', 'english_first_language': '0', 'age_group': '30-45', 'education': 'hs'}\n",
      "{'worker_id': '1154', 'gender': 'female', 'english_first_language': '1', 'age_group': '18-30', 'education': 'some'}\n",
      "{'worker_id': '1154', 'gender': 'male', 'english_first_language': '0', 'age_group': '18-30', 'education': 'hs'}\n",
      "{'worker_id': '3415', 'gender': 'female', 'english_first_language': '0', 'age_group': '30-45', 'education': 'professional'}\n",
      "{'worker_id': '3415', 'gender': 'female', 'english_first_language': '1', 'age_group': '18-30', 'education': 'hs'}\n"
     ]
    }
   ],
   "source": [
    "#function passed for each .tsv value and with the particular worker_id.\n",
    "def worker_id_lookup(annotator_list, dupe_id):\n",
    "    \"\"\"\n",
    "    Accepts: a list of dictionaries \n",
    "        & a list of known duplicate values for\n",
    "        the key 'worker_id' in those dictionaries\n",
    "    \n",
    "    If a duplicate value for worker_id is found, \n",
    "        print the complete dictionary of demographic data for that worker\n",
    "    \n",
    "    \"\"\"\n",
    "    #iterate through all annotator_lists to find worker_id match to the particular duplicate list.\n",
    "    for a in annotator_list:\n",
    "        if a['worker_id'] == dupe_id:\n",
    "            print(a)\n",
    "            \n",
    "#loop through the duplicate sample list and call our worker_id_lookup function\n",
    "#to check each dataset for corresponding worker demographic data\n",
    "for d in dupe_sample:\n",
    "    worker_id_lookup(toxicity_annotators, d)\n",
    "    worker_id_lookup(attack_aggro_annotators, d)"
   ]
  },
  {
   "cell_type": "markdown",
   "metadata": {},
   "source": [
    "Aha! It looks like few if any of these ``worker_id`` values correspond to the same demographic data info across the two datasets. \n",
    "\n",
    "It's possible that some of the same people labelled both datasets and were assigned different IDs each time. But there's no way for us to determine that with the data we have. \n",
    "\n",
    "So for now we will assume that these datasets were labelled by two entirely different sets of crowdworkers. Which means we can combine these two datasets into one, with no duplication to mess up our analysis."
   ]
  },
  {
   "cell_type": "markdown",
   "metadata": {},
   "source": [
    "### 1.6 Final preparation of the dataset\n",
    "\n",
    "Before we start our analysis of worker demographics, let's do two more things:\n",
    "\n",
    "1. Since we know now that worker ID isn't unique, let's give each worker in our new, combined dataset a **truly** unique ID.\n",
    "2. While we're at it, let's also add a new field to each worker's demographic dictionary that lists which dataset the worker worked on (toxicity or attack/aggressive)."
   ]
  },
  {
   "cell_type": "code",
   "execution_count": 16,
   "metadata": {
    "jupyter": {
     "outputs_hidden": true
    }
   },
   "outputs": [],
   "source": [
    "def add_dataset_id(list_of_dicts, dataset_ref):\n",
    "    \"\"\"\n",
    "    Accepts: a list of dictionaries & a string value for \"dataset\"\n",
    "    Returns: that list of dictionaries, with the new \"dataset\" key and the specified value\n",
    "    \"\"\"\n",
    "    #update is adding a new key:Value pair in what kind of dataset it is     \n",
    "    for w in list_of_dicts:\n",
    "        w.update({\"dataset\" : dataset_ref})\n",
    "        \n",
    "    return list_of_dicts"
   ]
  },
  {
   "cell_type": "code",
   "execution_count": 17,
   "metadata": {
    "jupyter": {
     "outputs_hidden": true
    }
   },
   "outputs": [],
   "source": [
    "#update our worker demographic datasets with the new key and value\n",
    "toxicity_annotators = add_dataset_id(toxicity_annotators, \"toxicity\")\n",
    "attack_aggro_annotators = add_dataset_id(attack_aggro_annotators, \"attack and aggression\")"
   ]
  },
  {
   "cell_type": "code",
   "execution_count": 18,
   "metadata": {},
   "outputs": [
    {
     "name": "stdout",
     "output_type": "stream",
     "text": [
      "{'worker_id': '85', 'gender': 'female', 'english_first_language': '0', 'age_group': '18-30', 'education': 'bachelors', 'dataset': 'toxicity'}\n",
      "{'worker_id': '833', 'gender': 'female', 'english_first_language': '0', 'age_group': '45-60', 'education': 'bachelors', 'dataset': 'attack and aggression'}\n"
     ]
    }
   ],
   "source": [
    "#did it work?\n",
    "print(toxicity_annotators[0])\n",
    "print(attack_aggro_annotators[0])"
   ]
  },
  {
   "cell_type": "markdown",
   "metadata": {},
   "source": [
    "Great. Now we'll use the function below to... \n",
    "\n",
    "1. combine the two datasets into one\n",
    "2. assign a truly unique id to each worker \n",
    "\n",
    "It doesn't matter what this ID is, as long as its unique within the dataset. We'll use sequential IDs, starting at \"1\" and going up from there."
   ]
  },
  {
   "cell_type": "code",
   "execution_count": 19,
   "metadata": {
    "tags": []
   },
   "outputs": [],
   "source": [
    "#function, adding both datasets\n",
    "def finalize_dataset(list1, list2):\n",
    "    \n",
    "    #combine the two lists into a new one\n",
    "    combined_list = list1 + list2\n",
    "    \n",
    "    #initialize our counter variable\n",
    "    new_id = 1\n",
    "    \n",
    "    for w in combined_list:\n",
    "        #add the new sequential id field, and populate with the current value of 'counter'\n",
    "        w.update({\"unique_id\" : str(new_id)})\n",
    "        \n",
    "        #increment the counter variable by 1, so that the next ID will be one number higher\n",
    "        new_id = new_id + 1\n",
    "        \n",
    "    return combined_list"
   ]
  },
  {
   "cell_type": "code",
   "execution_count": 20,
   "metadata": {},
   "outputs": [
    {
     "name": "stdout",
     "output_type": "stream",
     "text": [
      "5781\n",
      "{'worker_id': '85', 'gender': 'female', 'english_first_language': '0', 'age_group': '18-30', 'education': 'bachelors', 'dataset': 'toxicity', 'unique_id': '1'}\n"
     ]
    }
   ],
   "source": [
    "#create our new combined list with sequential IDs\n",
    "all_annotators = finalize_dataset(toxicity_annotators, attack_aggro_annotators)\n",
    "\n",
    "#print the list length and a sample, for sanity-checking purposes\n",
    "print(len(all_annotators))\n",
    "print(all_annotators[0])"
   ]
  },
  {
   "cell_type": "markdown",
   "metadata": {},
   "source": [
    "It worked! Now we can FINALLY start to analyze this dataset, and find out more about the workers who labelled the Wikipedia Talk Corpus."
   ]
  },
  {
   "cell_type": "markdown",
   "metadata": {},
   "source": [
    "## Part 2: Analyzing worker demographics"
   ]
  },
  {
   "cell_type": "markdown",
   "metadata": {},
   "source": [
    "Now that we have our worker demographic data de-duplicated, combined and uniquely identified, we can start using it to ask and answer research questions! \n",
    "\n",
    "You are welcome to do this next steps in Python, here in this notebook. But if you aren't super comfortable with Python, you can run the cell below to export this dataset to a .csv file called ``a2_all_annotator_demographics.csv`` which you can open in Google Sheets and do the analysis there.\n",
    "\n",
    "Note: if you choose Google Sheets, please title your Google Sheet \"A2 worker demographics\", share it with your instructor and TA (\"can view\" or \"can edit\") and paste a link to it in a Markdown cell below."
   ]
  },
  {
   "cell_type": "code",
   "execution_count": 21,
   "metadata": {
    "tags": []
   },
   "outputs": [],
   "source": [
    "with open('a2_all_annotator_demographics.csv', 'w', encoding='utf-8') as f:\n",
    "    writer = csv.writer(f)\n",
    "    #write a header row\n",
    "    writer.writerow(('unique_id',\n",
    "                     'worker_id', \n",
    "                     'gender', \n",
    "                     'english_first_language', \n",
    "                     'age_group',\n",
    "                     'education',\n",
    "                     'dataset',))\n",
    "    #loop through our dataset and write it to the file, row by row\n",
    "    for a in all_annotators:\n",
    "        writer.writerow((a['unique_id'], a['worker_id'], a['gender'], a['english_first_language'], a['age_group'], a['education'], a['dataset']))"
   ]
  },
  {
   "cell_type": "markdown",
   "metadata": {},
   "source": [
    "### 2.1 Questions 1-4: compute descriptive statistics\n",
    "\n",
    "Please create tables or bar charts that answer the following questions:\n",
    "\n",
    "- **Q1.** What is the gender distribution of these workers?\n",
    "- **Q2.** What is the distribution of the workers by first language?\n",
    "- **Q3.** What is the distribution of these workers by age group?\n",
    "- **Q4.** what is the distribution of these workers by education level?\n",
    "\n",
    "If you *do not know* how to create tables in Python, you can use Excel or another tool and upload it to your notebook server. However I would encourage you to try out the [Pandas](https://pandas.pydata.org/pandas-docs/version/0.15/10min.html) library, which makes it very easy to convert your data into tidy tabular representations. If you do not know how to create charts in Python, you can use an easy library such as [Plotly](https://plotly.com/python/v3/statistics-charts/#new-to-plotly) to create charts."
   ]
  },
  {
   "cell_type": "markdown",
   "metadata": {},
   "source": [
    "**POST YOUR ANSWERS TO QUESTIONS 1-4 HERE.**\n",
    "\n",
    "Please use *control f* to find the right q-series question."
   ]
  },
  {
   "cell_type": "code",
   "execution_count": 22,
   "metadata": {},
   "outputs": [
    {
     "data": {
      "text/plain": [
       "'3.5.1'"
      ]
     },
     "execution_count": 22,
     "metadata": {},
     "output_type": "execute_result"
    }
   ],
   "source": [
    "import matplotlib\n",
    "matplotlib.__version__"
   ]
  },
  {
   "cell_type": "code",
   "execution_count": 23,
   "metadata": {},
   "outputs": [],
   "source": [
    "#import libraries\n",
    "import pandas as pd\n",
    "import matplotlib.pyplot as plt\n",
    "import seaborn as sns"
   ]
  },
  {
   "cell_type": "code",
   "execution_count": 24,
   "metadata": {
    "scrolled": true
   },
   "outputs": [
    {
     "data": {
      "text/html": [
       "<div>\n",
       "<style scoped>\n",
       "    .dataframe tbody tr th:only-of-type {\n",
       "        vertical-align: middle;\n",
       "    }\n",
       "\n",
       "    .dataframe tbody tr th {\n",
       "        vertical-align: top;\n",
       "    }\n",
       "\n",
       "    .dataframe thead th {\n",
       "        text-align: right;\n",
       "    }\n",
       "</style>\n",
       "<table border=\"1\" class=\"dataframe\">\n",
       "  <thead>\n",
       "    <tr style=\"text-align: right;\">\n",
       "      <th></th>\n",
       "      <th>worker_id</th>\n",
       "      <th>gender</th>\n",
       "      <th>english_first_language</th>\n",
       "      <th>age_group</th>\n",
       "      <th>education</th>\n",
       "      <th>dataset</th>\n",
       "      <th>unique_id</th>\n",
       "    </tr>\n",
       "  </thead>\n",
       "  <tbody>\n",
       "    <tr>\n",
       "      <th>0</th>\n",
       "      <td>85</td>\n",
       "      <td>female</td>\n",
       "      <td>0</td>\n",
       "      <td>18-30</td>\n",
       "      <td>bachelors</td>\n",
       "      <td>toxicity</td>\n",
       "      <td>1</td>\n",
       "    </tr>\n",
       "    <tr>\n",
       "      <th>1</th>\n",
       "      <td>1617</td>\n",
       "      <td>female</td>\n",
       "      <td>0</td>\n",
       "      <td>45-60</td>\n",
       "      <td>bachelors</td>\n",
       "      <td>toxicity</td>\n",
       "      <td>2</td>\n",
       "    </tr>\n",
       "    <tr>\n",
       "      <th>2</th>\n",
       "      <td>1394</td>\n",
       "      <td>female</td>\n",
       "      <td>0</td>\n",
       "      <td></td>\n",
       "      <td>bachelors</td>\n",
       "      <td>toxicity</td>\n",
       "      <td>3</td>\n",
       "    </tr>\n",
       "    <tr>\n",
       "      <th>3</th>\n",
       "      <td>311</td>\n",
       "      <td>male</td>\n",
       "      <td>0</td>\n",
       "      <td>30-45</td>\n",
       "      <td>bachelors</td>\n",
       "      <td>toxicity</td>\n",
       "      <td>4</td>\n",
       "    </tr>\n",
       "    <tr>\n",
       "      <th>4</th>\n",
       "      <td>1980</td>\n",
       "      <td>male</td>\n",
       "      <td>0</td>\n",
       "      <td>45-60</td>\n",
       "      <td>masters</td>\n",
       "      <td>toxicity</td>\n",
       "      <td>5</td>\n",
       "    </tr>\n",
       "  </tbody>\n",
       "</table>\n",
       "</div>"
      ],
      "text/plain": [
       "  worker_id  gender english_first_language age_group  education   dataset  \\\n",
       "0        85  female                      0     18-30  bachelors  toxicity   \n",
       "1      1617  female                      0     45-60  bachelors  toxicity   \n",
       "2      1394  female                      0            bachelors  toxicity   \n",
       "3       311    male                      0     30-45  bachelors  toxicity   \n",
       "4      1980    male                      0     45-60    masters  toxicity   \n",
       "\n",
       "  unique_id  \n",
       "0         1  \n",
       "1         2  \n",
       "2         3  \n",
       "3         4  \n",
       "4         5  "
      ]
     },
     "execution_count": 24,
     "metadata": {},
     "output_type": "execute_result"
    }
   ],
   "source": [
    "#convert to pandas dataframe\n",
    "df = pd.DataFrame(all_annotators)\n",
    "#test with column heads\n",
    "df.head()"
   ]
  },
  {
   "cell_type": "markdown",
   "metadata": {},
   "source": [
    "## Q1 - Process\n",
    "\n",
    "What is the gender distribution of workers?"
   ]
  },
  {
   "cell_type": "code",
   "execution_count": 25,
   "metadata": {
    "scrolled": false
   },
   "outputs": [
    {
     "name": "stdout",
     "output_type": "stream",
     "text": [
      "gender\n",
      "female    2103\n",
      "male      3676\n",
      "other        2\n",
      "dtype: int64\n"
     ]
    },
    {
     "data": {
      "image/png": "[encoded data removed]",
      "text/plain": [
       "<Figure size 1080x576 with 1 Axes>"
      ]
     },
     "metadata": {
      "needs_background": "light"
     },
     "output_type": "display_data"
    }
   ],
   "source": [
    "#counting per all genders\n",
    "print(df.pivot_table(columns=['gender'], aggfunc='size'))\n",
    "\n",
    "#graphing\n",
    "plt.figure(figsize = (15,8))\n",
    "\n",
    "sns.set_theme(style=\"darkgrid\")\n",
    "ax = sns.countplot(x='gender',palette=\"Set1\", data=df)\n",
    "\n",
    "abs_values = df['gender'].value_counts(ascending=False).values\n",
    "ax.bar_label(container=ax.containers[0])\n",
    "\n",
    "#labels for accessibility\n",
    "ax.set_title(\"Gender Distribution of Wikipedia Annotators\")\n",
    "ax.set_xlabel(\"Gender\", fontsize = 15)\n",
    "ax.set_ylabel(\"Number of People\", fontsize = 15)\n",
    "\n",
    "plt.savefig('a2graphics/genderdemographics.png')"
   ]
  },
  {
   "cell_type": "markdown",
   "metadata": {},
   "source": [
    "### Q1 - Answer\n",
    "\n",
    "There are more men, 3676, than there are women, 2103, as represented in the above graphic. There are also two people who are nonbinary or recorded as other that are found in the demographic data set."
   ]
  },
  {
   "cell_type": "markdown",
   "metadata": {},
   "source": [
    "### Q2 - Process\n",
    "What is the distribution of the workers by first language?"
   ]
  },
  {
   "cell_type": "code",
   "execution_count": 26,
   "metadata": {},
   "outputs": [],
   "source": [
    "df.loc[(df.english_first_language == '0'), 'english_first_language'] = 'English is Not First Language'\n",
    "df.loc[(df.english_first_language == '1'), 'english_first_language'] = 'English is First Language'"
   ]
  },
  {
   "cell_type": "code",
   "execution_count": 27,
   "metadata": {},
   "outputs": [
    {
     "data": {
      "text/html": [
       "<div>\n",
       "<style scoped>\n",
       "    .dataframe tbody tr th:only-of-type {\n",
       "        vertical-align: middle;\n",
       "    }\n",
       "\n",
       "    .dataframe tbody tr th {\n",
       "        vertical-align: top;\n",
       "    }\n",
       "\n",
       "    .dataframe thead th {\n",
       "        text-align: right;\n",
       "    }\n",
       "</style>\n",
       "<table border=\"1\" class=\"dataframe\">\n",
       "  <thead>\n",
       "    <tr style=\"text-align: right;\">\n",
       "      <th></th>\n",
       "      <th>worker_id</th>\n",
       "      <th>gender</th>\n",
       "      <th>english_first_language</th>\n",
       "      <th>age_group</th>\n",
       "      <th>education</th>\n",
       "      <th>dataset</th>\n",
       "      <th>unique_id</th>\n",
       "    </tr>\n",
       "  </thead>\n",
       "  <tbody>\n",
       "    <tr>\n",
       "      <th>0</th>\n",
       "      <td>85</td>\n",
       "      <td>female</td>\n",
       "      <td>English is Not First Language</td>\n",
       "      <td>18-30</td>\n",
       "      <td>bachelors</td>\n",
       "      <td>toxicity</td>\n",
       "      <td>1</td>\n",
       "    </tr>\n",
       "    <tr>\n",
       "      <th>1</th>\n",
       "      <td>1617</td>\n",
       "      <td>female</td>\n",
       "      <td>English is Not First Language</td>\n",
       "      <td>45-60</td>\n",
       "      <td>bachelors</td>\n",
       "      <td>toxicity</td>\n",
       "      <td>2</td>\n",
       "    </tr>\n",
       "    <tr>\n",
       "      <th>2</th>\n",
       "      <td>1394</td>\n",
       "      <td>female</td>\n",
       "      <td>English is Not First Language</td>\n",
       "      <td></td>\n",
       "      <td>bachelors</td>\n",
       "      <td>toxicity</td>\n",
       "      <td>3</td>\n",
       "    </tr>\n",
       "    <tr>\n",
       "      <th>3</th>\n",
       "      <td>311</td>\n",
       "      <td>male</td>\n",
       "      <td>English is Not First Language</td>\n",
       "      <td>30-45</td>\n",
       "      <td>bachelors</td>\n",
       "      <td>toxicity</td>\n",
       "      <td>4</td>\n",
       "    </tr>\n",
       "    <tr>\n",
       "      <th>4</th>\n",
       "      <td>1980</td>\n",
       "      <td>male</td>\n",
       "      <td>English is Not First Language</td>\n",
       "      <td>45-60</td>\n",
       "      <td>masters</td>\n",
       "      <td>toxicity</td>\n",
       "      <td>5</td>\n",
       "    </tr>\n",
       "  </tbody>\n",
       "</table>\n",
       "</div>"
      ],
      "text/plain": [
       "  worker_id  gender         english_first_language age_group  education  \\\n",
       "0        85  female  English is Not First Language     18-30  bachelors   \n",
       "1      1617  female  English is Not First Language     45-60  bachelors   \n",
       "2      1394  female  English is Not First Language            bachelors   \n",
       "3       311    male  English is Not First Language     30-45  bachelors   \n",
       "4      1980    male  English is Not First Language     45-60    masters   \n",
       "\n",
       "    dataset unique_id  \n",
       "0  toxicity         1  \n",
       "1  toxicity         2  \n",
       "2  toxicity         3  \n",
       "3  toxicity         4  \n",
       "4  toxicity         5  "
      ]
     },
     "execution_count": 27,
     "metadata": {},
     "output_type": "execute_result"
    }
   ],
   "source": [
    "df.head()"
   ]
  },
  {
   "cell_type": "code",
   "execution_count": 28,
   "metadata": {
    "scrolled": false
   },
   "outputs": [
    {
     "name": "stdout",
     "output_type": "stream",
     "text": [
      "english_first_language\n",
      "English is First Language        1068\n",
      "English is Not First Language    4713\n",
      "dtype: int64\n"
     ]
    },
    {
     "data": {
      "image/png": "[encoded data removed]",
      "text/plain": [
       "<Figure size 1080x576 with 1 Axes>"
      ]
     },
     "metadata": {},
     "output_type": "display_data"
    }
   ],
   "source": [
    "#Does not translate english fluency to binary in documentation.\n",
    "#Assumption that 0 is not fluent, 1 is fluent\n",
    "\n",
    "#create a graph first to determine range of variables\n",
    "plt.figure(figsize = (15,8))\n",
    "ax = sns.countplot(x='english_first_language', palette=\"Paired\", data=df)\n",
    "\n",
    "ax.set_title(\"English Fluency Demographic of Wikipedia Annotators\")\n",
    "ax.set_ylabel(\"Number of People\", fontsize = 15)\n",
    "ax.set_xlabel(\"Is English the first language?\", fontsize = 15)\n",
    "\n",
    "abs_values = df['english_first_language'].value_counts(ascending=False).values\n",
    "ax.bar_label(container=ax.containers[0])\n",
    "\n",
    "plt.savefig('a2graphics/englishfirstlanguage.png')\n",
    "\n",
    "#exact number for legibility\n",
    "print(df.pivot_table(columns=['english_first_language'], aggfunc='size'))"
   ]
  },
  {
   "cell_type": "markdown",
   "metadata": {},
   "source": [
    "### Q2 - Answer\n",
    "\n",
    "Please note that this answer assumes that 0 represents those who do not speak English. This assumption is not validated by the documentation but instead borrows from 0 being referred to as false in computer science methods.\n",
    "\n",
    "There are more workers who do not speak English as a first language. The ratio of ESL (*english as a second language*) is more than 4 times those who grew up speaking English, 4713 ESL compared to 1068 English native."
   ]
  },
  {
   "cell_type": "markdown",
   "metadata": {},
   "source": [
    "### Q3 - Process\n",
    "What is the distribution of these workers by age group?"
   ]
  },
  {
   "cell_type": "code",
   "execution_count": 29,
   "metadata": {},
   "outputs": [
    {
     "data": {
      "image/png": "[encoded data removed]",
      "text/plain": [
       "<Figure size 1080x576 with 1 Axes>"
      ]
     },
     "metadata": {},
     "output_type": "display_data"
    }
   ],
   "source": [
    "#graph first to understand distribution\n",
    "plt.figure(figsize = (15,8))\n",
    "ax = sns.countplot(x='age_group', data=df)"
   ]
  },
  {
   "cell_type": "code",
   "execution_count": 30,
   "metadata": {
    "scrolled": false
   },
   "outputs": [
    {
     "data": {
      "image/png": "[encoded data removed]",
      "text/plain": [
       "<Figure size 1080x576 with 1 Axes>"
      ]
     },
     "metadata": {},
     "output_type": "display_data"
    }
   ],
   "source": [
    "#get rid of null responses\n",
    "#filter by responses that are empty string\n",
    "cubert = df[df['age_group'] != '']\n",
    "#sample head\n",
    "cubert.head()\n",
    "#check with graph to avoid adverse results\n",
    "plt.figure(figsize = (15,8))\n",
    "ax = sns.countplot(x='age_group', data=cubert)"
   ]
  },
  {
   "cell_type": "code",
   "execution_count": 31,
   "metadata": {},
   "outputs": [
    {
     "name": "stdout",
     "output_type": "stream",
     "text": [
      "age_group\n",
      "18-30       2911\n",
      "30-45       2078\n",
      "45-60        514\n",
      "Over 60       50\n",
      "Under 18     116\n",
      "dtype: int64\n"
     ]
    },
    {
     "data": {
      "image/png": "[encoded data removed]",
      "text/plain": [
       "<Figure size 1080x576 with 1 Axes>"
      ]
     },
     "metadata": {},
     "output_type": "display_data"
    }
   ],
   "source": [
    "plt.figure(figsize = (15,8))\n",
    "ax = sns.countplot(x='age_group', \n",
    "                   order=['Under 18', '18-30', '30-45', '45-60', 'Over 60'], palette=\"flare\",\n",
    "                   data=cubert)\n",
    "ax.set_title(\"Age Group of Wikipedia Annotators\")\n",
    "ax.set_ylabel(\"Number of People\", fontsize = 15)\n",
    "ax.set_xlabel(\"Age Bracket\", fontsize = 15)\n",
    "\n",
    "abs_values = df['age_group'].value_counts(ascending=False).values\n",
    "ax.bar_label(container=ax.containers[0])\n",
    "\n",
    "plt.savefig('a2graphics/agegroupdemographics.png')\n",
    "\n",
    "print(cubert.pivot_table(columns=['age_group'], aggfunc='size'))"
   ]
  },
  {
   "cell_type": "markdown",
   "metadata": {},
   "source": [
    "### Q3 - Answer\n",
    "\n",
    "The greatest representation in our dataset are those between ages 18-30. As the demographic gets older, we have a smaller representation but still significant amount of people falling between 30-45. While there are less than 500 individuals between 45-60, they outnumber those under 18 and over 60 combined."
   ]
  },
  {
   "cell_type": "markdown",
   "metadata": {},
   "source": [
    "### Q4 - Process\n",
    "\n",
    "what is the distribution of these workers by education level?"
   ]
  },
  {
   "cell_type": "code",
   "execution_count": 32,
   "metadata": {},
   "outputs": [
    {
     "name": "stdout",
     "output_type": "stream",
     "text": [
      "education\n",
      "bachelors       2303\n",
      "doctorate         61\n",
      "hs              1657\n",
      "masters          931\n",
      "none               4\n",
      "professional     684\n",
      "some hs          141\n",
      "dtype: int64\n"
     ]
    }
   ],
   "source": [
    "#change name from some to some hs for better transparency via docs\n",
    "df = df.replace(['some'], 'some hs')\n",
    "\n",
    "#count to make sure it's right\n",
    "print(df.pivot_table(columns=['education'], aggfunc='size'))"
   ]
  },
  {
   "cell_type": "code",
   "execution_count": 33,
   "metadata": {},
   "outputs": [
    {
     "data": {
      "image/png": "[encoded data removed]",
      "text/plain": [
       "<Figure size 1080x576 with 1 Axes>"
      ]
     },
     "metadata": {},
     "output_type": "display_data"
    }
   ],
   "source": [
    "plt.figure(figsize = (15,8))\n",
    "sns.set_theme(style=\"darkgrid\")\n",
    "ax = sns.countplot(x='education', palette=\"Set2\",\n",
    "                   order = ['none', 'some hs', 'hs', 'professional',\n",
    "                           'bachelors', 'masters', 'doctorate'],\n",
    "                   data=df)\n",
    "\n",
    "abs_values = df['education'].value_counts(ascending=False).values\n",
    "ax.bar_label(container=ax.containers[0])\n",
    "ax.set_title(\"Highest Education Achieved by Annotators\")\n",
    "ax.set_ylabel(\"Number of People\", fontsize = 15)\n",
    "ax.set_xlabel(\"Highest Degree of Education Achieved\", fontsize = 15)\n",
    "plt.savefig('a2graphics/educationdemographics.png')"
   ]
  },
  {
   "cell_type": "markdown",
   "metadata": {},
   "source": [
    "### Q4 - Answer\n",
    "\n",
    "The largest representation comes are those who completed a bachelors program followed by those who completed a high school program. The lowest counts of education groups in ascending order are no education, doctorate level education, and some high school."
   ]
  },
  {
   "cell_type": "markdown",
   "metadata": {},
   "source": [
    "### 2.2 Questions 5-8\n",
    "\n",
    "Each of the next four questions requires a different kinds of answer.\n",
    "\n",
    "Questions 5 and 6 have a \"correct\" answer, but we'll still give you credit for the \"incorrect\" answer as long as you document your process well (in Markdown, in this notebook). These questions are intended to get you thinking about how even small errors in data processing can create bias in your data.\n",
    "\n",
    "Question 6 requires you to re-run some (but not all) of the data processing steps you performed above. Do this by copying the code into NEW cells below this line, and make sure to document each step using Markdown cells or inline (#) comments. You will probably want to change the names of the variables too.\n",
    "\n",
    "- **Q5.** Analyze all_annotators in Sheets or Jupyter: Do any of the fields in this dataset have missing data? If so, which fields, and what % of the rows contain missing values?\n",
    "- **Q6.** Build a version of the all_annotators dataset *without removing duplicates*, then re-run the summary statistics from questions 1-4. How have these summary statistics changed?\n",
    "\n",
    "Questions 7 and 8 don't have one \"correct\" answer. These questions are intended to get you thinking about how using this dataset to train a machine learning model might lead to bias in the way that model performs when used as intended. You will need to provide a written answer to each of these questions in 3-4 full sentences. Consider what you know about the workers themselves, the task they were given, and about the purpose of the Perspective API.\n",
    "\n",
    "Question 7 requires you to do some research of your own (hint: use Google). Question 8 doesn't require any new analysis or research, just critical thinking.\n",
    "\n",
    "- **Q7.** In general, how do the demographics of these workers compare to those of English-speaking internet users overall? Why would it matter if the worker demographics don't match the demographics of the intended end users of the Perspective API?\n",
    "\n",
    "- **Q8.** Given what you now know about the Wikipedia Talk Corpus, what issues might arise if it was used to train a machine learning-driven \"hostile speech detector\" that could be used on any website or social media platform?\n"
   ]
  },
  {
   "cell_type": "markdown",
   "metadata": {},
   "source": [
    "**POST YOUR ANSWERS TO QUESTIONS 5-8 HERE.**\n",
    "\n",
    "Please use *control f* to find the right q-series question."
   ]
  },
  {
   "cell_type": "markdown",
   "metadata": {},
   "source": [
    "### Q5 - Process\n",
    "\n",
    "Analyze all_annotators in Sheets or Jupyter: Do any of the fields in this dataset have missing data? If so, which fields and what % of the rows contain missing values?"
   ]
  },
  {
   "cell_type": "code",
   "execution_count": 34,
   "metadata": {},
   "outputs": [
    {
     "data": {
      "text/html": [
       "<div>\n",
       "<style scoped>\n",
       "    .dataframe tbody tr th:only-of-type {\n",
       "        vertical-align: middle;\n",
       "    }\n",
       "\n",
       "    .dataframe tbody tr th {\n",
       "        vertical-align: top;\n",
       "    }\n",
       "\n",
       "    .dataframe thead th {\n",
       "        text-align: right;\n",
       "    }\n",
       "</style>\n",
       "<table border=\"1\" class=\"dataframe\">\n",
       "  <thead>\n",
       "    <tr style=\"text-align: right;\">\n",
       "      <th></th>\n",
       "      <th>worker_id</th>\n",
       "      <th>gender</th>\n",
       "      <th>english_first_language</th>\n",
       "      <th>age_group</th>\n",
       "      <th>education</th>\n",
       "      <th>dataset</th>\n",
       "      <th>unique_id</th>\n",
       "    </tr>\n",
       "  </thead>\n",
       "  <tbody>\n",
       "    <tr>\n",
       "      <th>0</th>\n",
       "      <td>85</td>\n",
       "      <td>female</td>\n",
       "      <td>0</td>\n",
       "      <td>18-30</td>\n",
       "      <td>bachelors</td>\n",
       "      <td>toxicity</td>\n",
       "      <td>1</td>\n",
       "    </tr>\n",
       "    <tr>\n",
       "      <th>1</th>\n",
       "      <td>1617</td>\n",
       "      <td>female</td>\n",
       "      <td>0</td>\n",
       "      <td>45-60</td>\n",
       "      <td>bachelors</td>\n",
       "      <td>toxicity</td>\n",
       "      <td>2</td>\n",
       "    </tr>\n",
       "    <tr>\n",
       "      <th>2</th>\n",
       "      <td>1394</td>\n",
       "      <td>female</td>\n",
       "      <td>0</td>\n",
       "      <td></td>\n",
       "      <td>bachelors</td>\n",
       "      <td>toxicity</td>\n",
       "      <td>3</td>\n",
       "    </tr>\n",
       "    <tr>\n",
       "      <th>3</th>\n",
       "      <td>311</td>\n",
       "      <td>male</td>\n",
       "      <td>0</td>\n",
       "      <td>30-45</td>\n",
       "      <td>bachelors</td>\n",
       "      <td>toxicity</td>\n",
       "      <td>4</td>\n",
       "    </tr>\n",
       "    <tr>\n",
       "      <th>4</th>\n",
       "      <td>1980</td>\n",
       "      <td>male</td>\n",
       "      <td>0</td>\n",
       "      <td>45-60</td>\n",
       "      <td>masters</td>\n",
       "      <td>toxicity</td>\n",
       "      <td>5</td>\n",
       "    </tr>\n",
       "  </tbody>\n",
       "</table>\n",
       "</div>"
      ],
      "text/plain": [
       "  worker_id  gender english_first_language age_group  education   dataset  \\\n",
       "0        85  female                      0     18-30  bachelors  toxicity   \n",
       "1      1617  female                      0     45-60  bachelors  toxicity   \n",
       "2      1394  female                      0            bachelors  toxicity   \n",
       "3       311    male                      0     30-45  bachelors  toxicity   \n",
       "4      1980    male                      0     45-60    masters  toxicity   \n",
       "\n",
       "  unique_id  \n",
       "0         1  \n",
       "1         2  \n",
       "2         3  \n",
       "3         4  \n",
       "4         5  "
      ]
     },
     "execution_count": 34,
     "metadata": {},
     "output_type": "execute_result"
    }
   ],
   "source": [
    "#create new variable\n",
    "pdall = pd.DataFrame(all_annotators)\n",
    "pdall.head()"
   ]
  },
  {
   "cell_type": "code",
   "execution_count": 35,
   "metadata": {},
   "outputs": [
    {
     "data": {
      "text/plain": [
       "5781"
      ]
     },
     "execution_count": 35,
     "metadata": {},
     "output_type": "execute_result"
    }
   ],
   "source": [
    "len(pdall)"
   ]
  },
  {
   "cell_type": "code",
   "execution_count": 36,
   "metadata": {},
   "outputs": [
    {
     "name": "stdout",
     "output_type": "stream",
     "text": [
      "['age_group']\n",
      "worker_id                      2040\n",
      "gender                       female\n",
      "english_first_language            0\n",
      "age_group                          \n",
      "education                 bachelors\n",
      "dataset                    toxicity\n",
      "unique_id                      2498\n",
      "Name: 2497, dtype: object\n",
      "worker_id                     4010\n",
      "gender                        male\n",
      "english_first_language           0\n",
      "age_group                         \n",
      "education                  masters\n",
      "dataset                   toxicity\n",
      "unique_id                      396\n",
      "Name: 395, dtype: object\n",
      "worker_id                       523\n",
      "gender                       female\n",
      "english_first_language            0\n",
      "age_group                          \n",
      "education                 bachelors\n",
      "dataset                    toxicity\n",
      "unique_id                      2818\n",
      "Name: 2817, dtype: object\n",
      "worker_id                     2015\n",
      "gender                        male\n",
      "english_first_language           0\n",
      "age_group                         \n",
      "education                       hs\n",
      "dataset                   toxicity\n",
      "unique_id                      124\n",
      "Name: 123, dtype: object\n",
      "worker_id                     3694\n",
      "gender                      female\n",
      "english_first_language           1\n",
      "age_group                         \n",
      "education                       hs\n",
      "dataset                   toxicity\n",
      "unique_id                     1676\n",
      "Name: 1675, dtype: object\n"
     ]
    }
   ],
   "source": [
    "#holding list variable for key\n",
    "daily = []\n",
    "#holding list for empty columns, check if any have empty strings\n",
    "empcol = pdall.columns[pdall.eq('').any()].tolist()\n",
    "#check if any empty values\n",
    "empcol += pdall.columns[pdall.isnull().any()].tolist()\n",
    "\n",
    "#iterate through rows of the dataframe\n",
    "for i, row in pdall.iterrows():\n",
    "    #if the row is empty or has an empty string\n",
    "    if row.isnull().values.any() or row.eq('').values.any():\n",
    "        #append the index location\n",
    "        daily.append(i)\n",
    "\n",
    "#print check\n",
    "print(empcol)\n",
    "        \n",
    "len(daily)\n",
    "#create a random sample to check\n",
    "daily_sample = random.sample(daily, 5)\n",
    "\n",
    "for i in daily_sample:\n",
    "    print(pdall.loc[i])"
   ]
  },
  {
   "cell_type": "code",
   "execution_count": 37,
   "metadata": {
    "scrolled": true
   },
   "outputs": [
    {
     "name": "stdout",
     "output_type": "stream",
     "text": [
      "0.02\n"
     ]
    }
   ],
   "source": [
    "#mathparty\n",
    "percempty = round((len(daily) / len(pdall)), 2)\n",
    "print(percempty)"
   ]
  },
  {
   "cell_type": "markdown",
   "metadata": {},
   "source": [
    "### Q5 - Answer\n",
    "\n",
    "An estimated 2% of the rows of the dataset have empty values within them. All of these empty values come from the age-group category."
   ]
  },
  {
   "cell_type": "markdown",
   "metadata": {},
   "source": [
    "### Q6 - Process\n",
    "\n",
    "Build a version of the all_annotators dataset *without removing duplicates*, then re-run the summary statistics from questions 1-4. How have these summary statistics changed?"
   ]
  },
  {
   "cell_type": "code",
   "execution_count": 38,
   "metadata": {},
   "outputs": [],
   "source": [
    "#toxicity_annotators, attack_annotators, aggression_annotators\n",
    "allnoclean = pd.read_csv('annotationdatasets/aggression_worker_demographics.tsv', sep='\\t')\n",
    "allnoclean = allnoclean.append(pd.read_csv('annotationdatasets/attack_worker_demographics.tsv', sep='\\t'), ignore_index=True)\n",
    "allnoclean = allnoclean.append(pd.read_csv('annotationdatasets/toxicity_worker_demographics.tsv', sep='\\t'), ignore_index=True)"
   ]
  },
  {
   "cell_type": "code",
   "execution_count": 39,
   "metadata": {},
   "outputs": [
    {
     "name": "stdout",
     "output_type": "stream",
     "text": [
      "7971\n"
     ]
    }
   ],
   "source": [
    "allnoclean.head()\n",
    "print(len(allnoclean))"
   ]
  },
  {
   "cell_type": "code",
   "execution_count": 40,
   "metadata": {},
   "outputs": [
    {
     "name": "stdout",
     "output_type": "stream",
     "text": [
      "RAW\n",
      "gender\n",
      "female    2943\n",
      "male      5025\n",
      "other        3\n",
      "dtype: int64\n",
      "CLEANED\n",
      "gender\n",
      "female    2103\n",
      "male      3676\n",
      "other        2\n",
      "dtype: int64\n"
     ]
    }
   ],
   "source": [
    "#Gender\n",
    "print('RAW')\n",
    "print(allnoclean.pivot_table(columns=['gender'], aggfunc='size'))\n",
    "print('CLEANED')\n",
    "print(df.pivot_table(columns=['gender'], aggfunc='size'))"
   ]
  },
  {
   "cell_type": "code",
   "execution_count": 41,
   "metadata": {},
   "outputs": [
    {
     "name": "stdout",
     "output_type": "stream",
     "text": [
      "RAW\n",
      "age_group\n",
      "18-30       3960\n",
      "30-45       2909\n",
      "45-60        732\n",
      "Over 60       70\n",
      "Under 18     153\n",
      "dtype: int64\n",
      "CLEANED\n",
      "age_group\n",
      "             112\n",
      "18-30       2911\n",
      "30-45       2078\n",
      "45-60        514\n",
      "Over 60       50\n",
      "Under 18     116\n",
      "dtype: int64\n"
     ]
    }
   ],
   "source": [
    "#Age Group\n",
    "print('RAW')\n",
    "print(allnoclean.pivot_table(columns=['age_group'], aggfunc='size'))\n",
    "print('CLEANED')\n",
    "print(df.pivot_table(columns=['age_group'], aggfunc='size'))"
   ]
  },
  {
   "cell_type": "code",
   "execution_count": 42,
   "metadata": {
    "scrolled": true
   },
   "outputs": [
    {
     "name": "stdout",
     "output_type": "stream",
     "text": [
      "RAW\n",
      "education\n",
      "bachelors       3165\n",
      "doctorate         81\n",
      "hs              2288\n",
      "masters         1316\n",
      "none               5\n",
      "professional     927\n",
      "some             189\n",
      "dtype: int64\n",
      "CLEANED\n",
      "education\n",
      "bachelors       2303\n",
      "doctorate         61\n",
      "hs              1657\n",
      "masters          931\n",
      "none               4\n",
      "professional     684\n",
      "some hs          141\n",
      "dtype: int64\n"
     ]
    }
   ],
   "source": [
    "#Education\n",
    "print('RAW')\n",
    "print(allnoclean.pivot_table(columns=['education'], aggfunc='size'))\n",
    "print('CLEANED')\n",
    "print(df.pivot_table(columns=['education'], aggfunc='size'))"
   ]
  },
  {
   "cell_type": "code",
   "execution_count": 43,
   "metadata": {},
   "outputs": [
    {
     "name": "stdout",
     "output_type": "stream",
     "text": [
      "RAW\n",
      "english_first_language\n",
      "0    6501\n",
      "1    1470\n",
      "dtype: int64\n",
      "CLEANED\n",
      "english_first_language\n",
      "English is First Language        1068\n",
      "English is Not First Language    4713\n",
      "dtype: int64\n"
     ]
    }
   ],
   "source": [
    "#English First Language\n",
    "print('RAW')\n",
    "print(allnoclean.pivot_table(columns=['english_first_language'], aggfunc='size'))\n",
    "print('CLEANED')\n",
    "print(df.pivot_table(columns=['english_first_language'], aggfunc='size'))"
   ]
  },
  {
   "cell_type": "markdown",
   "metadata": {},
   "source": [
    "### Q6 - Answer\n",
    "\n",
    "In using duplicated data to make opinions about annotators demographics, we idenitfy that the makeup of existing fields per each column did not increase proportionately and instead suggest a more exponential growth. The larger categories had encountered larger growth when using unclean data. Their smaller counterparts would increase only a fraction more.\n",
    "-**Gender - Input 47** Men increased by nearly 1500 using unclean data, women increased by 800\n",
    "-**Age Group - Input 48** 18-30 demographic increased by about 1000 with unclear data, those over 60 increased by 20.\n",
    "-**Education - Input 49** Those with a bachelors degree increased by about 800, those without any education increased by 1.\n",
    "-**English as a first language - Input 50** Those who grew up speaking English increased by 400, those who did not increased by nearly 2000. *Note that in the original dataset, 0 is for those who do not speak English, 1 represents those who do.*\n",
    "\n",
    "### Please note the difference in our age group data.\n",
    "In our cleaned age bracket data we found multiple rows with an empty value. This shows up in our counting function, with 112 people being recorded to have no age group. This source of error does not exist in the original datasets, suggesting that somewhere in the cleaning process our age-data gets mistranslated."
   ]
  },
  {
   "cell_type": "markdown",
   "metadata": {},
   "source": [
    "### Q7. - Answer\n",
    "In general, how do the demographics of these workers compare to those of English-speaking internet users overall? Why would it matter if the worker demographics don't match the demographics of the intended end users of the Perspective API?\n",
    "\n",
    "Our dataset has a proportion of English native to non English natives of about 1:4.18. If the demographics of annotators don't represent the people who compose the dataset, then they can overestimate or miss cultural-specific references that would increase the accuracy. Specific acronyms, infrequently mentioned words, and appropriation of words could be used to insult others that the annotator might be unable to catch due to their infamiliarity with those terms. In addition, cultural specific pages that talk about sensitive content could also be caught as hostile or toxic just due to the cultural bias of the annotators."
   ]
  },
  {
   "cell_type": "markdown",
   "metadata": {},
   "source": [
    "### Q8. - Answer\n",
    "\n",
    "Given what you now know about the Wikipedia Talk Corpus, what issues might arise if it was used to train a machine learning-driven \"hostile speech detector\" that could be used on any website or social media platform?\n",
    "\n",
    "The machine-learning algorithm would likely reflect someone who speaks English as a second lanugage. It would have an okay understanding of the text with blind spots towards content more pertinent to the English language. \n",
    "\n",
    "The authors of the original dataset and the associated paper explain that they used sampled comments intermingled with the randomly collected dataset to ascertain annotator accuracy. However, it makes me wonder how many of those comments were tested on culturally-sensitive topics.\n",
    "\n",
    "There's a lot of issues with an English oriented hostile speech detector trained with non-English speaking annotators.\n",
    "\n",
    "Certain topics could be missed:\n",
    "- Abbreviations\n",
    "- [Leetspeak](https://techterms.com/definition/leet#:~:text=Leet%2C%20or%20leetspeak%2C%20is%20a,symbols%20that%20closely%20resemble%20them.)\n",
    "- Slurs\n",
    "\n",
    "In addition with an overannunciation of men and 18-30 year olds various topics could be reappropriated to reference only negative connotations.\n",
    "- Cross-culturally sensitive topics, e.g. lgbt, women's health\n",
    "\n",
    "This machine learning platform was only trained using wikipedia data. While there certainly probably lies annotator bias, I also think the speech structure would be completely different within other social media context. Where the context of Wikipedia comments revolve around the usefulness of a correction, I believe that other social media should be used discursively. An MLA to identify toxicity may do more to stifle conversation and segment audiences than encourage conversation."
   ]
  },
  {
   "cell_type": "markdown",
   "metadata": {},
   "source": [
    "## Part 3: Digging deeper\n",
    "\n",
    "### 3.1 Questions 9-16\n",
    "\n",
    "Below is a list of additional questions that you should be able to answer, based on what you've done today. \n",
    "\n",
    "***You may answer EITHER the \"code\" questions (Q9-Q12) OR the \"no code\" questions (Q13-Q16).***\n",
    "\n",
    "If you don't feel very comfortable with Python yet, choose the \"no code\" questions.\n",
    "\n",
    "- ***For the \"code\" questions*** you will need to load ``toxicity_annotations.tsv`` into Python and join that dataset with ``all_annotators`` on ``worker_id``.\n",
    "- ***For the \"no code\" questions*** you will need to load the file ``toxicity_labelled_comments_3k_sample.csv`` into Google Sheets. This file contains the text of 3000 comments that were annotated for toxicity, as well as the toxicity score that each worker gave to these comments. The file is a random sample taken from the ~1.5 million comments contained in ``toxicity_annotated_comments.tsv``\n",
    "\n",
    "*Note:* answering question 13-16 below ***will require reading some comments that contain offensive speech!*** If you do not want to be exposed to offensive speech, either answer the \"code\" questions instead, or reach out to your Instructor or TA and ask for an alternate activity.\n",
    "\n",
    "#### Code questions\n",
    "- **Q9.** What % of *workers* who labelled the toxicity dataset do we have demographic data for?\n",
    "- **Q10.** What % of the *comments* in the toxicity dataset were labelled by male vs. female-identified workers?\n",
    "- **Q11.** What % of the *comments* in the toxicity dataset were labelled by people for whom English is NOT their first language?\n",
    "- **Q12.** Based on your findings from questions 9-11, how might this dataset present a biased view of \"toxicity\"? How would you expect such biases to impact how the Perspective API performs? \n",
    "\n",
    "#### No-code questions\n",
    "\n",
    "Before you answer the questions below, read through at least 20 comments from ``toxicity_labelled_comments_3k_sample.csv`` that were labelled \"toxic\" (-1 or -2), 20 that were labelled \"non-toxic\" (1 or 2), and 20 that are labelled \"neutral\" (0). Note in your spreadsheet whether you agree or disagree with the labeller's judgement. \n",
    "\n",
    "\n",
    "- **Q13.** Pick 2-3 examples of comments where you disagreed with the labeller about the toxicity of a comment. Why did you disagree? Why do you think that the labeller might have labelled these comments the way they did?\n",
    "- **Q14.** Pick 2-3 examples of comments where you don't understand what the commenter was saying, and therefore had a hard time classifying as toxic or non-toxic. What additional context or information would you need in order to be confident in your judgement about the toxicity of this comment?\n",
    "- **Q15.** Read through the [instructions and labelling options](https://github.com/ewulczyn/wiki-detox/blob/master/src/modeling/toxicity_question.png) given to the crowdworkers. How could the way these instructions were written have made it difficult for crowdworkers to accurately label comments as toxic or non-toxic? If you were going to run a labelling campaign like this one yourself, how would you change these instructions or labelling options to help the crowdworkers make more accurate or consistent judgements about toxicity?\n",
    "- **Q16.** Based on your findings from questions 13-15, how might this dataset present a biased view of \"toxicity\"? How would you expect such biases to impact how the Perspective API performs as a general-purpose hostile speech detector? "
   ]
  },
  {
   "cell_type": "markdown",
   "metadata": {},
   "source": [
    "**POST YOUR ANSWERS TO QUESTIONS 9-16 HERE.**\n",
    "\n",
    "Please use *control f* to find the right q-series question."
   ]
  },
  {
   "cell_type": "markdown",
   "metadata": {},
   "source": [
    "### Q9 - Process\n",
    "\n",
    "What % of workers who labelled the toxicity dataset do we have demographic data for?"
   ]
  },
  {
   "cell_type": "code",
   "execution_count": 44,
   "metadata": {},
   "outputs": [],
   "source": [
    "#load the csv file\n",
    "toxic = pd.read_csv('annotationdatasets/toxicity_annotations.tsv', sep='\\t')"
   ]
  },
  {
   "cell_type": "code",
   "execution_count": 45,
   "metadata": {},
   "outputs": [
    {
     "name": "stdout",
     "output_type": "stream",
     "text": [
      "1598289\n"
     ]
    }
   ],
   "source": [
    "#length of document\n",
    "print(len(toxic))"
   ]
  },
  {
   "cell_type": "code",
   "execution_count": 46,
   "metadata": {},
   "outputs": [
    {
     "data": {
      "text/html": [
       "<div>\n",
       "<style scoped>\n",
       "    .dataframe tbody tr th:only-of-type {\n",
       "        vertical-align: middle;\n",
       "    }\n",
       "\n",
       "    .dataframe tbody tr th {\n",
       "        vertical-align: top;\n",
       "    }\n",
       "\n",
       "    .dataframe thead th {\n",
       "        text-align: right;\n",
       "    }\n",
       "</style>\n",
       "<table border=\"1\" class=\"dataframe\">\n",
       "  <thead>\n",
       "    <tr style=\"text-align: right;\">\n",
       "      <th></th>\n",
       "      <th>rev_id</th>\n",
       "      <th>worker_id</th>\n",
       "      <th>toxicity</th>\n",
       "      <th>toxicity_score</th>\n",
       "    </tr>\n",
       "  </thead>\n",
       "  <tbody>\n",
       "    <tr>\n",
       "      <th>0</th>\n",
       "      <td>2232.0</td>\n",
       "      <td>723</td>\n",
       "      <td>0</td>\n",
       "      <td>0.0</td>\n",
       "    </tr>\n",
       "    <tr>\n",
       "      <th>1</th>\n",
       "      <td>2232.0</td>\n",
       "      <td>4000</td>\n",
       "      <td>0</td>\n",
       "      <td>0.0</td>\n",
       "    </tr>\n",
       "    <tr>\n",
       "      <th>2</th>\n",
       "      <td>2232.0</td>\n",
       "      <td>3989</td>\n",
       "      <td>0</td>\n",
       "      <td>1.0</td>\n",
       "    </tr>\n",
       "    <tr>\n",
       "      <th>3</th>\n",
       "      <td>2232.0</td>\n",
       "      <td>3341</td>\n",
       "      <td>0</td>\n",
       "      <td>0.0</td>\n",
       "    </tr>\n",
       "    <tr>\n",
       "      <th>4</th>\n",
       "      <td>2232.0</td>\n",
       "      <td>1574</td>\n",
       "      <td>0</td>\n",
       "      <td>1.0</td>\n",
       "    </tr>\n",
       "  </tbody>\n",
       "</table>\n",
       "</div>"
      ],
      "text/plain": [
       "   rev_id  worker_id  toxicity  toxicity_score\n",
       "0  2232.0        723         0             0.0\n",
       "1  2232.0       4000         0             0.0\n",
       "2  2232.0       3989         0             1.0\n",
       "3  2232.0       3341         0             0.0\n",
       "4  2232.0       1574         0             1.0"
      ]
     },
     "execution_count": 46,
     "metadata": {},
     "output_type": "execute_result"
    }
   ],
   "source": [
    "#check to see if it loaded right\n",
    "toxic.head()"
   ]
  },
  {
   "cell_type": "code",
   "execution_count": 47,
   "metadata": {},
   "outputs": [
    {
     "data": {
      "text/html": [
       "<div>\n",
       "<style scoped>\n",
       "    .dataframe tbody tr th:only-of-type {\n",
       "        vertical-align: middle;\n",
       "    }\n",
       "\n",
       "    .dataframe tbody tr th {\n",
       "        vertical-align: top;\n",
       "    }\n",
       "\n",
       "    .dataframe thead th {\n",
       "        text-align: right;\n",
       "    }\n",
       "</style>\n",
       "<table border=\"1\" class=\"dataframe\">\n",
       "  <thead>\n",
       "    <tr style=\"text-align: right;\">\n",
       "      <th></th>\n",
       "      <th>worker_id</th>\n",
       "      <th>gender</th>\n",
       "      <th>english_first_language</th>\n",
       "      <th>age_group</th>\n",
       "      <th>education</th>\n",
       "      <th>dataset</th>\n",
       "      <th>unique_id</th>\n",
       "    </tr>\n",
       "  </thead>\n",
       "  <tbody>\n",
       "    <tr>\n",
       "      <th>0</th>\n",
       "      <td>85</td>\n",
       "      <td>female</td>\n",
       "      <td>English is Not First Language</td>\n",
       "      <td>18-30</td>\n",
       "      <td>bachelors</td>\n",
       "      <td>toxicity</td>\n",
       "      <td>1</td>\n",
       "    </tr>\n",
       "    <tr>\n",
       "      <th>1</th>\n",
       "      <td>1617</td>\n",
       "      <td>female</td>\n",
       "      <td>English is Not First Language</td>\n",
       "      <td>45-60</td>\n",
       "      <td>bachelors</td>\n",
       "      <td>toxicity</td>\n",
       "      <td>2</td>\n",
       "    </tr>\n",
       "    <tr>\n",
       "      <th>2</th>\n",
       "      <td>1394</td>\n",
       "      <td>female</td>\n",
       "      <td>English is Not First Language</td>\n",
       "      <td></td>\n",
       "      <td>bachelors</td>\n",
       "      <td>toxicity</td>\n",
       "      <td>3</td>\n",
       "    </tr>\n",
       "    <tr>\n",
       "      <th>3</th>\n",
       "      <td>311</td>\n",
       "      <td>male</td>\n",
       "      <td>English is Not First Language</td>\n",
       "      <td>30-45</td>\n",
       "      <td>bachelors</td>\n",
       "      <td>toxicity</td>\n",
       "      <td>4</td>\n",
       "    </tr>\n",
       "    <tr>\n",
       "      <th>4</th>\n",
       "      <td>1980</td>\n",
       "      <td>male</td>\n",
       "      <td>English is Not First Language</td>\n",
       "      <td>45-60</td>\n",
       "      <td>masters</td>\n",
       "      <td>toxicity</td>\n",
       "      <td>5</td>\n",
       "    </tr>\n",
       "  </tbody>\n",
       "</table>\n",
       "</div>"
      ],
      "text/plain": [
       "  worker_id  gender         english_first_language age_group  education  \\\n",
       "0        85  female  English is Not First Language     18-30  bachelors   \n",
       "1      1617  female  English is Not First Language     45-60  bachelors   \n",
       "2      1394  female  English is Not First Language            bachelors   \n",
       "3       311    male  English is Not First Language     30-45  bachelors   \n",
       "4      1980    male  English is Not First Language     45-60    masters   \n",
       "\n",
       "    dataset unique_id  \n",
       "0  toxicity         1  \n",
       "1  toxicity         2  \n",
       "2  toxicity         3  \n",
       "3  toxicity         4  \n",
       "4  toxicity         5  "
      ]
     },
     "execution_count": 47,
     "metadata": {},
     "output_type": "execute_result"
    }
   ],
   "source": [
    "#compare with other dataset\n",
    "df.head()"
   ]
  },
  {
   "cell_type": "code",
   "execution_count": 48,
   "metadata": {},
   "outputs": [],
   "source": [
    "#make worker_id an int\n",
    "df['worker_id']=df['worker_id'].astype(int)"
   ]
  },
  {
   "cell_type": "code",
   "execution_count": 49,
   "metadata": {},
   "outputs": [],
   "source": [
    "#make toxic worker_id an int\n",
    "toxic['worker_id'] = toxic['worker_id'].astype(int)"
   ]
  },
  {
   "cell_type": "code",
   "execution_count": 50,
   "metadata": {},
   "outputs": [],
   "source": [
    "#filter df to only include toxicity dataset or else file size will increase\n",
    "toxicdf = df[df['dataset'] == 'toxicity']"
   ]
  },
  {
   "cell_type": "code",
   "execution_count": 51,
   "metadata": {},
   "outputs": [
    {
     "data": {
      "text/html": [
       "<div>\n",
       "<style scoped>\n",
       "    .dataframe tbody tr th:only-of-type {\n",
       "        vertical-align: middle;\n",
       "    }\n",
       "\n",
       "    .dataframe tbody tr th {\n",
       "        vertical-align: top;\n",
       "    }\n",
       "\n",
       "    .dataframe thead th {\n",
       "        text-align: right;\n",
       "    }\n",
       "</style>\n",
       "<table border=\"1\" class=\"dataframe\">\n",
       "  <thead>\n",
       "    <tr style=\"text-align: right;\">\n",
       "      <th></th>\n",
       "      <th>worker_id</th>\n",
       "      <th>gender</th>\n",
       "      <th>english_first_language</th>\n",
       "      <th>age_group</th>\n",
       "      <th>education</th>\n",
       "      <th>dataset</th>\n",
       "      <th>unique_id</th>\n",
       "    </tr>\n",
       "  </thead>\n",
       "  <tbody>\n",
       "    <tr>\n",
       "      <th>3586</th>\n",
       "      <td>3189</td>\n",
       "      <td>female</td>\n",
       "      <td>English is Not First Language</td>\n",
       "      <td>18-30</td>\n",
       "      <td>bachelors</td>\n",
       "      <td>toxicity</td>\n",
       "      <td>3587</td>\n",
       "    </tr>\n",
       "    <tr>\n",
       "      <th>3587</th>\n",
       "      <td>1105</td>\n",
       "      <td>female</td>\n",
       "      <td>English is Not First Language</td>\n",
       "      <td>18-30</td>\n",
       "      <td>bachelors</td>\n",
       "      <td>toxicity</td>\n",
       "      <td>3588</td>\n",
       "    </tr>\n",
       "    <tr>\n",
       "      <th>3588</th>\n",
       "      <td>2192</td>\n",
       "      <td>female</td>\n",
       "      <td>English is First Language</td>\n",
       "      <td>Under 18</td>\n",
       "      <td>hs</td>\n",
       "      <td>toxicity</td>\n",
       "      <td>3589</td>\n",
       "    </tr>\n",
       "    <tr>\n",
       "      <th>3589</th>\n",
       "      <td>2692</td>\n",
       "      <td>female</td>\n",
       "      <td>English is Not First Language</td>\n",
       "      <td>30-45</td>\n",
       "      <td>hs</td>\n",
       "      <td>toxicity</td>\n",
       "      <td>3590</td>\n",
       "    </tr>\n",
       "    <tr>\n",
       "      <th>3590</th>\n",
       "      <td>4160</td>\n",
       "      <td>male</td>\n",
       "      <td>English is Not First Language</td>\n",
       "      <td>45-60</td>\n",
       "      <td>bachelors</td>\n",
       "      <td>toxicity</td>\n",
       "      <td>3591</td>\n",
       "    </tr>\n",
       "  </tbody>\n",
       "</table>\n",
       "</div>"
      ],
      "text/plain": [
       "      worker_id  gender         english_first_language age_group  education  \\\n",
       "3586       3189  female  English is Not First Language     18-30  bachelors   \n",
       "3587       1105  female  English is Not First Language     18-30  bachelors   \n",
       "3588       2192  female      English is First Language  Under 18         hs   \n",
       "3589       2692  female  English is Not First Language     30-45         hs   \n",
       "3590       4160    male  English is Not First Language     45-60  bachelors   \n",
       "\n",
       "       dataset unique_id  \n",
       "3586  toxicity      3587  \n",
       "3587  toxicity      3588  \n",
       "3588  toxicity      3589  \n",
       "3589  toxicity      3590  \n",
       "3590  toxicity      3591  "
      ]
     },
     "execution_count": 51,
     "metadata": {},
     "output_type": "execute_result"
    }
   ],
   "source": [
    "toxicdf.tail()"
   ]
  },
  {
   "cell_type": "code",
   "execution_count": 52,
   "metadata": {},
   "outputs": [],
   "source": [
    "combinedtoxic= toxic.merge(toxicdf, how='left')"
   ]
  },
  {
   "cell_type": "code",
   "execution_count": 53,
   "metadata": {},
   "outputs": [
    {
     "data": {
      "text/html": [
       "<div>\n",
       "<style scoped>\n",
       "    .dataframe tbody tr th:only-of-type {\n",
       "        vertical-align: middle;\n",
       "    }\n",
       "\n",
       "    .dataframe tbody tr th {\n",
       "        vertical-align: top;\n",
       "    }\n",
       "\n",
       "    .dataframe thead th {\n",
       "        text-align: right;\n",
       "    }\n",
       "</style>\n",
       "<table border=\"1\" class=\"dataframe\">\n",
       "  <thead>\n",
       "    <tr style=\"text-align: right;\">\n",
       "      <th></th>\n",
       "      <th>rev_id</th>\n",
       "      <th>worker_id</th>\n",
       "      <th>toxicity</th>\n",
       "      <th>toxicity_score</th>\n",
       "      <th>gender</th>\n",
       "      <th>english_first_language</th>\n",
       "      <th>age_group</th>\n",
       "      <th>education</th>\n",
       "      <th>dataset</th>\n",
       "      <th>unique_id</th>\n",
       "    </tr>\n",
       "  </thead>\n",
       "  <tbody>\n",
       "    <tr>\n",
       "      <th>0</th>\n",
       "      <td>2232.0</td>\n",
       "      <td>723</td>\n",
       "      <td>0</td>\n",
       "      <td>0.0</td>\n",
       "      <td>female</td>\n",
       "      <td>English is Not First Language</td>\n",
       "      <td>30-45</td>\n",
       "      <td>bachelors</td>\n",
       "      <td>toxicity</td>\n",
       "      <td>1058</td>\n",
       "    </tr>\n",
       "    <tr>\n",
       "      <th>1</th>\n",
       "      <td>2232.0</td>\n",
       "      <td>4000</td>\n",
       "      <td>0</td>\n",
       "      <td>0.0</td>\n",
       "      <td>male</td>\n",
       "      <td>English is First Language</td>\n",
       "      <td>18-30</td>\n",
       "      <td>hs</td>\n",
       "      <td>toxicity</td>\n",
       "      <td>3104</td>\n",
       "    </tr>\n",
       "    <tr>\n",
       "      <th>2</th>\n",
       "      <td>2232.0</td>\n",
       "      <td>3989</td>\n",
       "      <td>0</td>\n",
       "      <td>1.0</td>\n",
       "      <td>female</td>\n",
       "      <td>English is Not First Language</td>\n",
       "      <td>18-30</td>\n",
       "      <td>bachelors</td>\n",
       "      <td>toxicity</td>\n",
       "      <td>2960</td>\n",
       "    </tr>\n",
       "    <tr>\n",
       "      <th>3</th>\n",
       "      <td>2232.0</td>\n",
       "      <td>3341</td>\n",
       "      <td>0</td>\n",
       "      <td>0.0</td>\n",
       "      <td>NaN</td>\n",
       "      <td>NaN</td>\n",
       "      <td>NaN</td>\n",
       "      <td>NaN</td>\n",
       "      <td>NaN</td>\n",
       "      <td>NaN</td>\n",
       "    </tr>\n",
       "    <tr>\n",
       "      <th>4</th>\n",
       "      <td>2232.0</td>\n",
       "      <td>1574</td>\n",
       "      <td>0</td>\n",
       "      <td>1.0</td>\n",
       "      <td>female</td>\n",
       "      <td>English is Not First Language</td>\n",
       "      <td>30-45</td>\n",
       "      <td>bachelors</td>\n",
       "      <td>toxicity</td>\n",
       "      <td>544</td>\n",
       "    </tr>\n",
       "  </tbody>\n",
       "</table>\n",
       "</div>"
      ],
      "text/plain": [
       "   rev_id  worker_id  toxicity  toxicity_score  gender  \\\n",
       "0  2232.0        723         0             0.0  female   \n",
       "1  2232.0       4000         0             0.0    male   \n",
       "2  2232.0       3989         0             1.0  female   \n",
       "3  2232.0       3341         0             0.0     NaN   \n",
       "4  2232.0       1574         0             1.0  female   \n",
       "\n",
       "          english_first_language age_group  education   dataset unique_id  \n",
       "0  English is Not First Language     30-45  bachelors  toxicity      1058  \n",
       "1      English is First Language     18-30         hs  toxicity      3104  \n",
       "2  English is Not First Language     18-30  bachelors  toxicity      2960  \n",
       "3                            NaN       NaN        NaN       NaN       NaN  \n",
       "4  English is Not First Language     30-45  bachelors  toxicity       544  "
      ]
     },
     "execution_count": 53,
     "metadata": {},
     "output_type": "execute_result"
    }
   ],
   "source": [
    "combinedtoxic.head()"
   ]
  },
  {
   "cell_type": "code",
   "execution_count": 54,
   "metadata": {},
   "outputs": [
    {
     "data": {
      "text/html": [
       "<div>\n",
       "<style scoped>\n",
       "    .dataframe tbody tr th:only-of-type {\n",
       "        vertical-align: middle;\n",
       "    }\n",
       "\n",
       "    .dataframe tbody tr th {\n",
       "        vertical-align: top;\n",
       "    }\n",
       "\n",
       "    .dataframe thead th {\n",
       "        text-align: right;\n",
       "    }\n",
       "</style>\n",
       "<table border=\"1\" class=\"dataframe\">\n",
       "  <thead>\n",
       "    <tr style=\"text-align: right;\">\n",
       "      <th></th>\n",
       "      <th>rev_id</th>\n",
       "      <th>worker_id</th>\n",
       "      <th>toxicity</th>\n",
       "      <th>toxicity_score</th>\n",
       "      <th>gender</th>\n",
       "      <th>english_first_language</th>\n",
       "      <th>age_group</th>\n",
       "      <th>education</th>\n",
       "      <th>dataset</th>\n",
       "      <th>unique_id</th>\n",
       "    </tr>\n",
       "  </thead>\n",
       "  <tbody>\n",
       "    <tr>\n",
       "      <th>1598284</th>\n",
       "      <td>699897151.0</td>\n",
       "      <td>1550</td>\n",
       "      <td>0</td>\n",
       "      <td>0.0</td>\n",
       "      <td>male</td>\n",
       "      <td>English is Not First Language</td>\n",
       "      <td>18-30</td>\n",
       "      <td>professional</td>\n",
       "      <td>toxicity</td>\n",
       "      <td>40</td>\n",
       "    </tr>\n",
       "    <tr>\n",
       "      <th>1598285</th>\n",
       "      <td>699897151.0</td>\n",
       "      <td>1025</td>\n",
       "      <td>0</td>\n",
       "      <td>1.0</td>\n",
       "      <td>female</td>\n",
       "      <td>English is Not First Language</td>\n",
       "      <td>18-30</td>\n",
       "      <td>professional</td>\n",
       "      <td>toxicity</td>\n",
       "      <td>633</td>\n",
       "    </tr>\n",
       "    <tr>\n",
       "      <th>1598286</th>\n",
       "      <td>699897151.0</td>\n",
       "      <td>648</td>\n",
       "      <td>0</td>\n",
       "      <td>1.0</td>\n",
       "      <td>male</td>\n",
       "      <td>English is Not First Language</td>\n",
       "      <td>18-30</td>\n",
       "      <td>hs</td>\n",
       "      <td>toxicity</td>\n",
       "      <td>1770</td>\n",
       "    </tr>\n",
       "    <tr>\n",
       "      <th>1598287</th>\n",
       "      <td>699897151.0</td>\n",
       "      <td>379</td>\n",
       "      <td>0</td>\n",
       "      <td>0.0</td>\n",
       "      <td>male</td>\n",
       "      <td>English is Not First Language</td>\n",
       "      <td>18-30</td>\n",
       "      <td>hs</td>\n",
       "      <td>toxicity</td>\n",
       "      <td>437</td>\n",
       "    </tr>\n",
       "    <tr>\n",
       "      <th>1598288</th>\n",
       "      <td>699897151.0</td>\n",
       "      <td>468</td>\n",
       "      <td>0</td>\n",
       "      <td>1.0</td>\n",
       "      <td>female</td>\n",
       "      <td>English is Not First Language</td>\n",
       "      <td>30-45</td>\n",
       "      <td>bachelors</td>\n",
       "      <td>toxicity</td>\n",
       "      <td>294</td>\n",
       "    </tr>\n",
       "  </tbody>\n",
       "</table>\n",
       "</div>"
      ],
      "text/plain": [
       "              rev_id  worker_id  toxicity  toxicity_score  gender  \\\n",
       "1598284  699897151.0       1550         0             0.0    male   \n",
       "1598285  699897151.0       1025         0             1.0  female   \n",
       "1598286  699897151.0        648         0             1.0    male   \n",
       "1598287  699897151.0        379         0             0.0    male   \n",
       "1598288  699897151.0        468         0             1.0  female   \n",
       "\n",
       "                english_first_language age_group     education   dataset  \\\n",
       "1598284  English is Not First Language     18-30  professional  toxicity   \n",
       "1598285  English is Not First Language     18-30  professional  toxicity   \n",
       "1598286  English is Not First Language     18-30            hs  toxicity   \n",
       "1598287  English is Not First Language     18-30            hs  toxicity   \n",
       "1598288  English is Not First Language     30-45     bachelors  toxicity   \n",
       "\n",
       "        unique_id  \n",
       "1598284        40  \n",
       "1598285       633  \n",
       "1598286      1770  \n",
       "1598287       437  \n",
       "1598288       294  "
      ]
     },
     "execution_count": 54,
     "metadata": {},
     "output_type": "execute_result"
    }
   ],
   "source": [
    "combinedtoxic.tail()"
   ]
  },
  {
   "cell_type": "code",
   "execution_count": 55,
   "metadata": {},
   "outputs": [
    {
     "name": "stdout",
     "output_type": "stream",
     "text": [
      "1598289\n"
     ]
    }
   ],
   "source": [
    "print(len(combinedtoxic))"
   ]
  },
  {
   "cell_type": "code",
   "execution_count": 56,
   "metadata": {},
   "outputs": [
    {
     "name": "stdout",
     "output_type": "stream",
     "text": [
      "rev_id                         0\n",
      "worker_id                      0\n",
      "toxicity                       0\n",
      "toxicity_score                 0\n",
      "gender                    251334\n",
      "english_first_language    251334\n",
      "age_group                 251334\n",
      "education                 251334\n",
      "dataset                   251334\n",
      "unique_id                 251334\n",
      "dtype: int64\n"
     ]
    }
   ],
   "source": [
    "print(combinedtoxic.isnull().sum())"
   ]
  },
  {
   "cell_type": "code",
   "execution_count": 57,
   "metadata": {},
   "outputs": [
    {
     "name": "stdout",
     "output_type": "stream",
     "text": [
      "0.16\n"
     ]
    }
   ],
   "source": [
    "print(round((251334/1598289),2))"
   ]
  },
  {
   "cell_type": "markdown",
   "metadata": {},
   "source": [
    "### Q9 - Answer\n",
    "\n",
    "16% of the recorded rows don't have demographic data."
   ]
  },
  {
   "cell_type": "markdown",
   "metadata": {},
   "source": [
    "### Q10 - Process\n",
    "\n",
    "What % of the comments in the toxicity dataset were labelled by male vs. female-identified workers?"
   ]
  },
  {
   "cell_type": "code",
   "execution_count": 60,
   "metadata": {},
   "outputs": [
    {
     "data": {
      "text/plain": [
       "male      889251\n",
       "female    457346\n",
       "other        358\n",
       "Name: gender, dtype: int64"
      ]
     },
     "execution_count": 60,
     "metadata": {},
     "output_type": "execute_result"
    }
   ],
   "source": [
    "combinedtoxic['gender'].value_counts()"
   ]
  },
  {
   "cell_type": "code",
   "execution_count": 62,
   "metadata": {},
   "outputs": [
    {
     "name": "stdout",
     "output_type": "stream",
     "text": [
      "0.56\n"
     ]
    }
   ],
   "source": [
    "print(round(889251/1598289, 2))"
   ]
  },
  {
   "cell_type": "code",
   "execution_count": 63,
   "metadata": {},
   "outputs": [
    {
     "name": "stdout",
     "output_type": "stream",
     "text": [
      "0.29\n"
     ]
    }
   ],
   "source": [
    "print(round(457346/1598289, 2))"
   ]
  },
  {
   "cell_type": "markdown",
   "metadata": {},
   "source": [
    "### Q10 - Answer\n",
    "\n",
    "Of the datasets available we know that at least 56% of comments are annotated by men and 29% of comments are annotated by women."
   ]
  },
  {
   "cell_type": "markdown",
   "metadata": {},
   "source": [
    "### Q11 - Process\n",
    "\n",
    "What % of the comments in the toxicity dataset were labelled by people for whom English is NOT their first language?"
   ]
  },
  {
   "cell_type": "code",
   "execution_count": 65,
   "metadata": {},
   "outputs": [
    {
     "data": {
      "text/plain": [
       "English is Not First Language    1113162\n",
       "English is First Language         233793\n",
       "Name: english_first_language, dtype: int64"
      ]
     },
     "execution_count": 65,
     "metadata": {},
     "output_type": "execute_result"
    }
   ],
   "source": [
    "combinedtoxic['english_first_language'].value_counts()"
   ]
  },
  {
   "cell_type": "code",
   "execution_count": 66,
   "metadata": {},
   "outputs": [
    {
     "name": "stdout",
     "output_type": "stream",
     "text": [
      "0.7\n"
     ]
    }
   ],
   "source": [
    "print(round(1113162/1598289, 2))"
   ]
  },
  {
   "cell_type": "markdown",
   "metadata": {},
   "source": [
    "### Q11 - Answer\n",
    "\n",
    "Of the dataset, we find that at least 70% of the annotators do not speak English as a first language."
   ]
  },
  {
   "cell_type": "markdown",
   "metadata": {},
   "source": [
    "### Q12 - Answer\n",
    "\n",
    "Based on your findings from questions 9-11, how might this dataset present a biased view of \"toxicity\"? How would you expect such biases to impact how the Perspective API performs?\n",
    "\n",
    "These findings should be reemphasized that they are lower bounds. From the datasets available we have 16% of demographic information unavailable although it is suggested that it would it only add to the majority demographic groups. \n",
    "\n",
    "I believe that the viewpoint biases may be unable to correctly ascertain what could be characterized as toxic or antagonizing comments. There's so many different references or idioms like dim or trash that ESL individuals might be contextually unable to recognize. Additionally the skewed male bias, could normalize sexist behavior as applied to women. It doesn't help that the authors who wrote the criteria for toxicitiy are men and may not have employed women for accuracy assessment samples when vetting the annotator recruitment process."
   ]
  },
  {
   "cell_type": "markdown",
   "metadata": {},
   "source": [
    "### 3.2 Challenge questions (optional)\n",
    "\n",
    "The questions below are optional; you don't need to answer them to receive full credit for this assignment.\n",
    "\n",
    "If you'd like to explore additional analyses of this dataset, here are a few questions to get you started!\n",
    "\n",
    "- ***Challenge #1.*** Are female-identified workers more likely to label a comment as \"toxic\" than male identified workers? \n",
    "- ***Challenge #2.*** Are workers with a higher level of education more consistent in their \"toxicity\" labelling--in other words, do they tend to agree with other labellers more often? (remember that, according to the documentation, every comment was labelled by at least 10 crowdworkers). \n",
    "- ***Challenge #3.*** What are the words most frequently associated with toxic comments? (perhaps focus on comments where most or all of the workers agree are toxic)\n",
    "- ***Challenge #4.*** What are the most polarizing comments--comments that some workers consider toxic, and others consider non-toxic? What about these comments made them so polarizing, or hard to classify?\n",
    "- ***Challenge #5.*** Answer some or all of the homework questions above for one the other datasets (\"attack\" and \"aggressive\"). How are the potential sources of bias for these datasets the same, or different, than for the toxicity dataset? Would you \"trust\" a machine learning model based on these datasets more or less than one trained on the \"toxicity\" dataset? Why?"
   ]
  },
  {
   "cell_type": "markdown",
   "metadata": {},
   "source": [
    "*OPTIONAL: POST YOUR ANSWERS TO THE CHALLENGE QUESTIONS HERE.*\n",
    "\n",
    "Use both Markdown and code-formatted cells."
   ]
  },
  {
   "cell_type": "code",
   "execution_count": null,
   "metadata": {
    "jupyter": {
     "outputs_hidden": true
    }
   },
   "outputs": [],
   "source": []
  }
 ],
 "metadata": {
  "kernelspec": {
   "display_name": "Python 3",
   "language": "python",
   "name": "python3"
  },
  "language_info": {
   "codemirror_mode": {
    "name": "ipython",
    "version": 3
   },
   "file_extension": ".py",
   "mimetype": "text/x-python",
   "name": "python",
   "nbconvert_exporter": "python",
   "pygments_lexer": "ipython3",
   "version": "3.7.2"
  }
 },
 "nbformat": 4,
 "nbformat_minor": 4
}
