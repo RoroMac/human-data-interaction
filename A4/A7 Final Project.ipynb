{
 "cells": [
  {
   "cell_type": "markdown",
   "id": "activated-afghanistan",
   "metadata": {},
   "source": [
    "# Why are college football coaches paid so much?\n",
    "\n",
    "Rory McCaffrey  \n",
    "HCDE410: Human-Data Interaction  \n",
    "Final Project"
   ]
  },
  {
   "cell_type": "markdown",
   "id": "usual-feature",
   "metadata": {},
   "source": [
    "# Table of Contents\n",
    "*So you can cntrl+F*\n",
    "1. Introduction\n",
    "2. Before We Begin\n",
    "3. Background\n",
    "4. Research Questions and Methodology\n",
    "5. Findings\n",
    "6. Discussion"
   ]
  },
  {
   "cell_type": "markdown",
   "id": "greater-attack",
   "metadata": {},
   "source": [
    "# 1. Introduction\n",
    "\n",
    "#### 1.1 Sub-Introduction\n",
    "\n",
    "When I first started this project, I wanted to do a project about University of Washington transparency. In an attempt to define what transparency means, I found out how *hard* it is to define it in a way to evaluate University of Washington.\n",
    "\n",
    "Joining the Human-Centered Design & Engineering program, there has been many conversations about why we don't have a paid Slack channel. The argument that I've heard is that since we use government funds, then our messages would be accessible with a request of information.\n",
    "\n",
    "Because of this, I erraneously believed that University of Washington is fully transparent. Instead from the [financial reports](https://finance.uw.edu/uwar/annualreport2021.pdf) to an archive of [course offerings](https://www.washington.edu/students/timeschd/SUM2017/kazakh.html) there is this extremely complicated system that obscufates how to properly evaluate the efficeincy of this school. Since we can't actually track where the money goes, how are we expected to use their tools built for accountability like the [Financial Fraud Hotline](https://fa.uw.edu/audit/financial-fraud-and-ethics-violation-reporting-process#:~:text=If%20you%20suspect%20an%20incident,or%20click%20the%20link%20below).\n",
    "\n",
    "This probably isn't specific to just University of Washington and I likely needed to rent, but I digress.\n",
    "\n",
    "#### 1.2 The Real Introduction\n",
    "\n",
    "Continuing on my search for an interesting project I finally found something related to University of Washington on the [Washingtons' State Employee Salaries](https://fiscal.wa.gov/Salaries.aspx). The top 6 out of 10 highest paid employees are apart of collegiate athletics. Five of those employees get paid more than one million annually. The highest paid state employee was a football coach with a salary of nearly four million, in 2019.\n",
    "\n",
    "To check if this was right, I compared it with [California](https://transparentcalifornia.com/salaries/all/). Again the top spots are all dominated by head coaches with multimillion dollar salaries. But the real kicker is that these are nowhere near the highest paid *government employees*. Let's compare the 10 highest paid [college football coaches](https://espnlafayette.com/10-highest-paid-college-football-coaches-in-2021/) with 10 highest paid [ESPN college football coaches](https://espnlafayette.com/10-highest-paid-nfl-coaches-in-2021/) of 2021 and the 10 [highest paid NBA Coaches](https://www.888sport.com/blog/highest-paid-nba-coach).\n",
    "\n",
    "| College Coach | ESPN Coach | NBA Coach |\n",
    "|---------------|------------|-----------|\n",
    "| Nick Saban 9.7 mil | Bill Belichick 12 mil| Gregg Popovich 11 mil|\n",
    "| Ed Orgeron 9.0 mil | Pete Carroll 11 mil | Doc Rivers 10 mil |\n",
    "| David Shaw 8.9 mil | Jon Gruden 10 mil | Steve Nash 8.7 mil |\n",
    "| Dabo Swinney 8.3 mil | Sean Payton 9.8 mil | Steve Kerr 8.7 mil|\n",
    "| Lincoln Riley 7.6 mil | John Harbaugh 9 mil | Nick Nurse 8 mil |\n",
    "| Dan Mullen 7.5 mil | Sean McVay 8.5 mil | Rick Carlisle 7.25 mil|\n",
    "| Jimbo Fisher 7.5 mil | Matt Rhule 8.5 mil | Dwane Casey 7 mil |\n",
    "| Kirby Smart 7.1 mil | Andy Reid 8 mil | Ty Lue 6.5 mil |\n",
    "| Ryan Day 6.6 mil | Mike Tomlin 8 mil | Billy Donovan 6 mil |\n",
    "| Gary Patterson 6.1 mil | Bruce Arians 8 mil| Mike Budenholzer 6 mil|\n",
    "\n",
    "I mean I guess it could make sense. In a state where minimum wage is $7.25 an hour, maybe Nick Saban of University of Alabama really does do more than the Baltimore Ravens coach, John Harbaugh. \n",
    "\n",
    "Don't worry though! This unsettling trend has been fully recognized, identified, and addressed by Washington State through their [FAQs](https://fiscal.wa.gov/SalaryDataFAQ.pdf).\n",
    "\n",
    "**\"Why are so many University of Washington Employees paid so highly?**\n",
    ">Many of the highest-paid employees at the UW, for example, are in high-demand, high-paying fields such as medicine, computer science, genome sciences, and other fields.\n",
    "\n",
    "Oh. Okay, what about this?\n",
    "\n",
    "**Are University of Washington Athletic coaches' salaries paid for by taxpayers?**\n",
    "  \n",
    "*Note that there was no mention of [Washington States' fiscal policies](https://www.adn.com/sports/national-sports/2021/10/19/no-jab-no-job-wsu-football-coach-nick-rolovich-washington-states-highest-paid-employee-is-fired/#:~:text=%E2%80%9CVaccine%20requirements%20work%2C%E2%80%9D%20Schulz,by%20not%20following%20the%20mandate.), where the coach was the highst paid state employee in 2020.*\n",
    "\n",
    ">The UW's intercollegiate Athletic department is responsible for generating all the revenue to operate and maintain its facilities. No General Fund tax dollars or any other tax dollars support the program. Nor are there any other institutional funds going to the program. And unlike many universities, there are no student fees or tuition dollars going to support athletics. All the depratment's revenue comes from ticket and gate receipts, television and radio contracts and philanthropic gifts. \n",
    "\n",
    "This sounds like a good answer! It's a shame it isn't supported by the [Knight-Newhouse Database](https://knightnewhousedata.org/reports/9f7d29ec) on financial reporting. In 2018, University of Washington received 3.8 million from the government. In 2021, they received 6.5 million. At least that bit about student fees not paying for the athletics department seems true though.\n",
    "\n",
    "#### 1.3 So what did I do or am I just ranting?\n",
    "\n",
    "Probably just ranting, but in case you're curious. I explored the validity of the Flutie effect, the belief that schools reputations are tied to the athletic deparmtent and therefore schools with more wins gain more applicants and have more restricted admission rates. \n",
    "\n",
    "To test this assumption, I took the NCAA collegiate football dataset (2013-2019) to calculate school:year:win-ratios. I then merged this dataset with changes in admission rates from the given year to the following year. This admission rates dataset was taken from the federal college scorecard. With a random sample of 59 win ratios and changes in admission rates no correlation could be seen tying college football to the number of applicants a school receives."
   ]
  },
  {
   "cell_type": "markdown",
   "id": "sought-surveillance",
   "metadata": {},
   "source": [
    "# 2. Before We Begin\n",
    "\n",
    "I used the [NCAA college football dataset](https://www.kaggle.com/datasets/jeffgallini/college-football-team-stats-2019) retrieved from kaggle.com. I downloaded all datasets from 2013 until 2019. This is available to use via the Open Data License.\n",
    "\n",
    "I also downloaded the [College Scorecard](https://collegescorecard.ed.gov/data/) dataset. This dataset has no license but I assume that it is public domain. I was unable to figure out how to use the college scorecard API and therefore cleaned it up manually. **I suggest cleaning the dataset first to prevent crashing your computer with its' sheer size.** Please use the following filters:\n",
    "\n",
    "| variable | definition | requirements |\n",
    "|----------|------------|--------------|\n",
    "| Control | Whether or not the school is public, private, or for-profit | 1 (public) |\n",
    "| HIGHDEG | Highest degree awarded by institution (associates, bachelors, masters, or doctorates) | > 2 (Bachelors and Graduate) |\n",
    "| ADM_RATE | The admission rate of the given year | Is not NULL for 2013 to 2019|\n",
    "| UGDS    | Size of the undergraduate student body | > 3000|\n",
    "\n",
    "The reasoning behind these filters will be explained later. Note that using the API will require different variable names and class indexing. For example: control will be referenced as school.ownership."
   ]
  },
  {
   "cell_type": "markdown",
   "id": "played-stroke",
   "metadata": {},
   "source": [
    "# 3. Background\n",
    "\n",
    "College sports is an odd place to consider rampant corruption, but it isn't unheard of. In 2018, [many universities](https://en.wikipedia.org/wiki/2017%E2%80%9318_NCAA_Division_I_men%27s_basketball_corruption_scandal) were and still are under profile by the FBI for paying [high school students ](https://www.vox.com/2018/3/13/17109874/ncaa-scandal-fbi-basketball-march-madness)financial incentives up to $22,000 to attend their school. \n",
    "\n",
    "But Operation Varsity Blues is what most think of when they hear corruption at the collegiate level. [Coaches](https://www.theguardian.com/us-news/2019/mar/12/college-admissions-fraud-scandal-felicity-huffman-lori-loughlin) were being given money to put students on their athletic roster to help get into the prestigious university. These [sports](https://en.wikipedia.org/wiki/2019_college_admissions_bribery_scandal#Universities_and_accused_personnel) included soccer, tennis, basketball, water polo, sailing and volleyball.\n",
    "\n",
    "But this contradicts the whole narrative that football coaches create. Why would these coaches be willing to commit fraud for some hundred thousand dollars when they get millions?\n",
    "\n",
    "In reality nearly all [collegiate sports lose money](https://www.bestcolleges.com/news/analysis/2020/11/20/do-college-sports-make-money/). On average a majority of schools lose 16 million dollars per year through their athletics program. To make matters worse most [schools are indebted](https://www.sportico.com/leagues/college-sports/2022/college-athletic-debt-soars-1234651231/) through careless spending. Big schools like Cal, Iowa St, and Texas owe more than [$100,000](https://www.usatoday.com/story/sports/college/2022/01/19/rutgers-athletics-2021-deficit-taxpayers-football-basketball-big-ten/6576342001/) removing [funding opportunities from the academic departments](https://www.bloomberg.com/news/features/2017-01-04/college-football-s-top-teams-are-built-on-crippling-debt).\n",
    "\n",
    "Only [25 schools](https://www.bestcolleges.com/news/analysis/2020/11/20/do-college-sports-make-money/) of the entire NCAA that did make money; and nearly all relied on [football and basketball to help support the rest of the athletic department](https://www.bannersociety.com/2020/4/8/21211241/college-athletic-budgets-football). The UW athletic department ran emergency debt [protocals](https://www.seattletimes.com/sports/uw-husky-football/after-weathering-year-that-could-have-been-so-much-worse-uw-athletics-financial-outlook-hinges-on-football-capacity-this-fall/) after being unable to cash in on football during the pandemic.\n",
    "\n",
    "Investigating what real benefit a university has in investing in their football department, it's often argued as simply better for the schools' image. The [\"Flutie Effect\"](https://www.washingtonpost.com/graphics/2018/sports/ncaa-applicants/) is where teams that play better causes an increase in the amount of applicants a school receives. But is this still a logical investment for most universities?"
   ]
  },
  {
   "cell_type": "markdown",
   "id": "declared-three",
   "metadata": {},
   "source": [
    "# 4. Research Questions & Methodology\n",
    "\n",
    "In attempting to rationalize why a coach might be paid so much I focused on two research questions.\n",
    "1. What is the impact that football success has on admission rates?\n",
    "2. What is the relationship between coach salary and admission rates?\n",
    "\n",
    "In answering both of these questions I created  a null hypothesis:\n",
    "\n",
    "## H(0) A coaches salary has no effect on admission rates.\n",
    "\n",
    "\n",
    "## Methods\n",
    "\n",
    "To test this I performed the following methods.\n",
    "1. Filter college scorecard data\n",
    "2. Calculating the win rates of schools' football teams at various years\n",
    "3. Randomly selecting 60 schools.\n",
    "4. Measuring the percent change of admissions between that year and the following year.\n",
    "5. Identify how much the coach was being paid for that given year.\n",
    "6. Run a pearson coefficient between Win Ratio and Admission Change\n",
    "7. Run a pearson coefficient between Admission Change and Coach Salary.\n",
    "\n",
    "## Assumptions\n",
    "\n",
    "- Lower admission rates are indications of more applicants.\n",
    "- To accomodate for similar funding abilities, schools are filtered to only be public\n",
    "- D1 schools spend more on sports, schools must be filtered to have a student body greater than 3000 and award graduate degrees, accounting for [90% of D1](https://www.ncsasports.org/recruiting/how-to-get-recruited/college-divisions).\n",
    "- Despite data on 2021  being included in these data files, they are removed because of external impact COVID may have had on admissions and win rates.\n",
    "- There is only one dataset about head coach compensation provided by the [USAToday](https://www.usatoday.com/restricted/?return=https%3A%2F%2Fwww.usatoday.com%2Fin-depth%2Fgraphics%2F2021%2F10%2F14%2Fcollege-football-coaches-pay-balloons-over-three-decades%2F6049636001%2F), but it costs money to access. I therefore used football performance metrics as a proxy with a low degree of error from these two previous datasets. I then used a hodgepodge of Google resources to determine salary with an estimated high degree of error."
   ]
  },
  {
   "cell_type": "code",
   "execution_count": 1,
   "id": "acknowledged-there",
   "metadata": {},
   "outputs": [],
   "source": [
    "#import the necessary libraries for this code\n",
    "import pandas as pd\n",
    "import matplotlib.pyplot as plt\n",
    "import numpy as np\n",
    "import seaborn as sns\n",
    "import matplotlib.ticker as ticker"
   ]
  },
  {
   "cell_type": "markdown",
   "id": "planned-organizer",
   "metadata": {},
   "source": [
    "# 4.1 Filter College Scorecard Data"
   ]
  },
  {
   "cell_type": "markdown",
   "id": "charming-decade",
   "metadata": {},
   "source": [
    "From the [main page](https://collegescorecard.ed.gov/data/), download **all data files**. This while download a huge folder with content ranging from 1996 through 2021.\n",
    "\n",
    "## A manual process\n",
    "Opening a dataset for a given year slowed my computer and made automating the filtering very difficult. Therefore I opened it in a spreadsheet software and performed many of these tasks by hand.\n",
    "\n",
    "To save space delete any files within that start with MERGED, FieldOfStudy, or Most-Recent. This should leave you with only the scorecard data for a given year about that institution. Delete any scorecard data for institutions that are not covered between 2013 and 2020, the years from the NCAA CFB dataset.\n",
    "\n",
    "For each dataset remove all columns except for:\n",
    "\n",
    "| Variable | Description|\n",
    "|----------|------------|\n",
    "|INSTM     | Institution name|\n",
    "|HIGHDEG   | Highest Degree offered |\n",
    "|Control   | Type of schema of the universitiy|\n",
    "|ADM_RATE  | Admission rate of the university for the given year|\n",
    "|UGDS      | Undergraduate student body |\n",
    "\n",
    "Institution name will help map admission rate changes to win rates later. HIGHDEG, Control, and UGDS are used as control variables to reduce external factors like ability to fund athletics and different athletic divisions."
   ]
  },
  {
   "cell_type": "code",
   "execution_count": 2,
   "id": "explicit-greensboro",
   "metadata": {},
   "outputs": [
    {
     "data": {
      "text/html": [
       "<div>\n",
       "<style scoped>\n",
       "    .dataframe tbody tr th:only-of-type {\n",
       "        vertical-align: middle;\n",
       "    }\n",
       "\n",
       "    .dataframe tbody tr th {\n",
       "        vertical-align: top;\n",
       "    }\n",
       "\n",
       "    .dataframe thead th {\n",
       "        text-align: right;\n",
       "    }\n",
       "</style>\n",
       "<table border=\"1\" class=\"dataframe\">\n",
       "  <thead>\n",
       "    <tr style=\"text-align: right;\">\n",
       "      <th></th>\n",
       "      <th>INSTNM</th>\n",
       "      <th>HIGHDEG</th>\n",
       "      <th>CONTROL</th>\n",
       "      <th>ADM_RATE</th>\n",
       "      <th>UGDS</th>\n",
       "    </tr>\n",
       "  </thead>\n",
       "  <tbody>\n",
       "    <tr>\n",
       "      <th>0</th>\n",
       "      <td>Alabama A &amp; M University</td>\n",
       "      <td>4</td>\n",
       "      <td>1</td>\n",
       "      <td>0.8965</td>\n",
       "      <td>5090.0</td>\n",
       "    </tr>\n",
       "    <tr>\n",
       "      <th>1</th>\n",
       "      <td>University of Alabama at Birmingham</td>\n",
       "      <td>4</td>\n",
       "      <td>1</td>\n",
       "      <td>0.8060</td>\n",
       "      <td>13549.0</td>\n",
       "    </tr>\n",
       "    <tr>\n",
       "      <th>2</th>\n",
       "      <td>Amridge University</td>\n",
       "      <td>4</td>\n",
       "      <td>2</td>\n",
       "      <td>NaN</td>\n",
       "      <td>298.0</td>\n",
       "    </tr>\n",
       "    <tr>\n",
       "      <th>3</th>\n",
       "      <td>University of Alabama in Huntsville</td>\n",
       "      <td>4</td>\n",
       "      <td>1</td>\n",
       "      <td>0.7711</td>\n",
       "      <td>7825.0</td>\n",
       "    </tr>\n",
       "    <tr>\n",
       "      <th>4</th>\n",
       "      <td>Alabama State University</td>\n",
       "      <td>4</td>\n",
       "      <td>1</td>\n",
       "      <td>0.9888</td>\n",
       "      <td>3603.0</td>\n",
       "    </tr>\n",
       "  </tbody>\n",
       "</table>\n",
       "</div>"
      ],
      "text/plain": [
       "                                INSTNM  HIGHDEG  CONTROL  ADM_RATE     UGDS\n",
       "0             Alabama A & M University        4        1    0.8965   5090.0\n",
       "1  University of Alabama at Birmingham        4        1    0.8060  13549.0\n",
       "2                   Amridge University        4        2       NaN    298.0\n",
       "3  University of Alabama in Huntsville        4        1    0.7711   7825.0\n",
       "4             Alabama State University        4        1    0.9888   3603.0"
      ]
     },
     "execution_count": 2,
     "metadata": {},
     "output_type": "execute_result"
    }
   ],
   "source": [
    "#Use latest data to define student body, control, and highest degree\n",
    "scorecard2020 = pd.read_csv(\"rawdata/scorecarddatasets/scorecard2020.csv\")\n",
    "list(scorecard2020.columns)\n",
    "scorecard2020.head()"
   ]
  },
  {
   "cell_type": "code",
   "execution_count": 3,
   "id": "cleared-concern",
   "metadata": {},
   "outputs": [],
   "source": [
    "#Convert variable names to numeric values as a precaution\n",
    "scorecard2020['HIGHDEG'] = pd.to_numeric(scorecard2020[\"HIGHDEG\"])\n",
    "scorecard2020['CONTROL'] = pd.to_numeric(scorecard2020[\"CONTROL\"])\n",
    "scorecard2020['ADM_RATE'] = pd.to_numeric(scorecard2020[\"ADM_RATE\"])\n",
    "scorecard2020['UGDS'] = pd.to_numeric(scorecard2020[\"UGDS\"])"
   ]
  },
  {
   "cell_type": "code",
   "execution_count": 4,
   "id": "voluntary-vehicle",
   "metadata": {},
   "outputs": [
    {
     "data": {
      "text/html": [
       "<div>\n",
       "<style scoped>\n",
       "    .dataframe tbody tr th:only-of-type {\n",
       "        vertical-align: middle;\n",
       "    }\n",
       "\n",
       "    .dataframe tbody tr th {\n",
       "        vertical-align: top;\n",
       "    }\n",
       "\n",
       "    .dataframe thead th {\n",
       "        text-align: right;\n",
       "    }\n",
       "</style>\n",
       "<table border=\"1\" class=\"dataframe\">\n",
       "  <thead>\n",
       "    <tr style=\"text-align: right;\">\n",
       "      <th></th>\n",
       "      <th>INSTNM</th>\n",
       "      <th>HIGHDEG</th>\n",
       "      <th>CONTROL</th>\n",
       "      <th>ADM_RATE</th>\n",
       "      <th>UGDS</th>\n",
       "    </tr>\n",
       "  </thead>\n",
       "  <tbody>\n",
       "    <tr>\n",
       "      <th>0</th>\n",
       "      <td>Alabama A &amp; M University</td>\n",
       "      <td>4</td>\n",
       "      <td>1</td>\n",
       "      <td>0.8965</td>\n",
       "      <td>5090.0</td>\n",
       "    </tr>\n",
       "    <tr>\n",
       "      <th>1</th>\n",
       "      <td>University of Alabama at Birmingham</td>\n",
       "      <td>4</td>\n",
       "      <td>1</td>\n",
       "      <td>0.8060</td>\n",
       "      <td>13549.0</td>\n",
       "    </tr>\n",
       "    <tr>\n",
       "      <th>3</th>\n",
       "      <td>University of Alabama in Huntsville</td>\n",
       "      <td>4</td>\n",
       "      <td>1</td>\n",
       "      <td>0.7711</td>\n",
       "      <td>7825.0</td>\n",
       "    </tr>\n",
       "    <tr>\n",
       "      <th>4</th>\n",
       "      <td>Alabama State University</td>\n",
       "      <td>4</td>\n",
       "      <td>1</td>\n",
       "      <td>0.9888</td>\n",
       "      <td>3603.0</td>\n",
       "    </tr>\n",
       "    <tr>\n",
       "      <th>5</th>\n",
       "      <td>The University of Alabama</td>\n",
       "      <td>4</td>\n",
       "      <td>1</td>\n",
       "      <td>0.8039</td>\n",
       "      <td>30610.0</td>\n",
       "    </tr>\n",
       "  </tbody>\n",
       "</table>\n",
       "</div>"
      ],
      "text/plain": [
       "                                INSTNM  HIGHDEG  CONTROL  ADM_RATE     UGDS\n",
       "0             Alabama A & M University        4        1    0.8965   5090.0\n",
       "1  University of Alabama at Birmingham        4        1    0.8060  13549.0\n",
       "3  University of Alabama in Huntsville        4        1    0.7711   7825.0\n",
       "4             Alabama State University        4        1    0.9888   3603.0\n",
       "5            The University of Alabama        4        1    0.8039  30610.0"
      ]
     },
     "execution_count": 4,
     "metadata": {},
     "output_type": "execute_result"
    }
   ],
   "source": [
    "#filter to requirement\n",
    "scorecard2020 = scorecard2020[scorecard2020['HIGHDEG'] > 2]\n",
    "scorecard2020 = scorecard2020[scorecard2020['CONTROL'] == 1]\n",
    "scorecard2020 = scorecard2020[scorecard2020['UGDS'] > 3000]\n",
    "scorecard2020.head()"
   ]
  },
  {
   "cell_type": "code",
   "execution_count": 5,
   "id": "civil-peninsula",
   "metadata": {},
   "outputs": [],
   "source": [
    "#create a new variable for masterlist\n",
    "#rename variables for yearly comparisson\n",
    "scorecard = scorecard2020.rename(columns = {\"ADM_RATE\": \"ADM_RATE2020\", \"UGDS\": \"UGDS2020\"})"
   ]
  },
  {
   "cell_type": "code",
   "execution_count": 6,
   "id": "iraqi-plymouth",
   "metadata": {},
   "outputs": [
    {
     "data": {
      "text/html": [
       "<div>\n",
       "<style scoped>\n",
       "    .dataframe tbody tr th:only-of-type {\n",
       "        vertical-align: middle;\n",
       "    }\n",
       "\n",
       "    .dataframe tbody tr th {\n",
       "        vertical-align: top;\n",
       "    }\n",
       "\n",
       "    .dataframe thead th {\n",
       "        text-align: right;\n",
       "    }\n",
       "</style>\n",
       "<table border=\"1\" class=\"dataframe\">\n",
       "  <thead>\n",
       "    <tr style=\"text-align: right;\">\n",
       "      <th></th>\n",
       "      <th>INSTNM</th>\n",
       "      <th>HIGHDEG</th>\n",
       "      <th>CONTROL</th>\n",
       "      <th>ADM_RATE2020</th>\n",
       "      <th>UGDS2020</th>\n",
       "      <th>ADM_RATE2019</th>\n",
       "    </tr>\n",
       "  </thead>\n",
       "  <tbody>\n",
       "    <tr>\n",
       "      <th>0</th>\n",
       "      <td>Alabama A &amp; M University</td>\n",
       "      <td>4</td>\n",
       "      <td>1</td>\n",
       "      <td>0.8965</td>\n",
       "      <td>5090.0</td>\n",
       "      <td>0.9175</td>\n",
       "    </tr>\n",
       "    <tr>\n",
       "      <th>1</th>\n",
       "      <td>University of Alabama at Birmingham</td>\n",
       "      <td>4</td>\n",
       "      <td>1</td>\n",
       "      <td>0.8060</td>\n",
       "      <td>13549.0</td>\n",
       "      <td>0.7366</td>\n",
       "    </tr>\n",
       "    <tr>\n",
       "      <th>2</th>\n",
       "      <td>University of Alabama in Huntsville</td>\n",
       "      <td>4</td>\n",
       "      <td>1</td>\n",
       "      <td>0.7711</td>\n",
       "      <td>7825.0</td>\n",
       "      <td>0.8257</td>\n",
       "    </tr>\n",
       "    <tr>\n",
       "      <th>3</th>\n",
       "      <td>Alabama State University</td>\n",
       "      <td>4</td>\n",
       "      <td>1</td>\n",
       "      <td>0.9888</td>\n",
       "      <td>3603.0</td>\n",
       "      <td>0.9690</td>\n",
       "    </tr>\n",
       "    <tr>\n",
       "      <th>4</th>\n",
       "      <td>The University of Alabama</td>\n",
       "      <td>4</td>\n",
       "      <td>1</td>\n",
       "      <td>0.8039</td>\n",
       "      <td>30610.0</td>\n",
       "      <td>0.8268</td>\n",
       "    </tr>\n",
       "  </tbody>\n",
       "</table>\n",
       "</div>"
      ],
      "text/plain": [
       "                                INSTNM  HIGHDEG  CONTROL  ADM_RATE2020  \\\n",
       "0             Alabama A & M University        4        1        0.8965   \n",
       "1  University of Alabama at Birmingham        4        1        0.8060   \n",
       "2  University of Alabama in Huntsville        4        1        0.7711   \n",
       "3             Alabama State University        4        1        0.9888   \n",
       "4            The University of Alabama        4        1        0.8039   \n",
       "\n",
       "   UGDS2020  ADM_RATE2019  \n",
       "0    5090.0        0.9175  \n",
       "1   13549.0        0.7366  \n",
       "2    7825.0        0.8257  \n",
       "3    3603.0        0.9690  \n",
       "4   30610.0        0.8268  "
      ]
     },
     "execution_count": 6,
     "metadata": {},
     "output_type": "execute_result"
    }
   ],
   "source": [
    "#read from the 2019 dataset for antichronological order\n",
    "scorecardholder = pd.read_csv(\"rawdata/scorecarddatasets/scorecard2019.csv\")\n",
    "\n",
    "#rename field for 2019 comparisson\n",
    "scorecardholder = scorecardholder.rename(columns = {\"ADM_RATE\": \"ADM_RATE2019\"})\n",
    "\n",
    "#drop all bloat fields that wouldn't impact this study\n",
    "scorecardholder = scorecardholder.drop(\"HIGHDEG\",axis=1)\n",
    "scorecardholder = scorecardholder.drop(\"CONTROL\", axis=1)\n",
    "scorecardholder = scorecardholder.drop(\"UGDS\", axis=1)\n",
    "\n",
    "#merge on name\n",
    "scorecard = scorecard.merge(scorecardholder, on=\"INSTNM\")\n",
    "\n",
    "#preview\n",
    "scorecard.head()"
   ]
  },
  {
   "cell_type": "markdown",
   "id": "explicit-bidder",
   "metadata": {},
   "source": [
    "**If your variable column names end in '_x' or \"y\" you have duplicated the column, restart code and try again**"
   ]
  },
  {
   "cell_type": "code",
   "execution_count": 7,
   "id": "hundred-better",
   "metadata": {},
   "outputs": [],
   "source": [
    "#Do this for 2018\n",
    "scorecardholder = pd.read_csv(\"rawdata/scorecarddatasets/scorecard2018.csv\")\n",
    "scorecardholder = scorecardholder.rename(columns = {\"ADM_RATE\": \"ADM_RATE2018\"})\n",
    "scorecardholder = scorecardholder.drop(\"HIGHDEG\",axis=1)\n",
    "scorecardholder = scorecardholder.drop(\"CONTROL\", axis=1)\n",
    "scorecardholder = scorecardholder.drop(\"UGDS\", axis=1)\n",
    "scorecard = scorecard.merge(scorecardholder, on=\"INSTNM\")\n",
    "\n",
    "#For 2017\n",
    "scorecardholder = pd.read_csv(\"rawdata/scorecarddatasets/scorecard2017.csv\")\n",
    "scorecardholder = scorecardholder.rename(columns = {\"ADM_RATE\": \"ADM_RATE2017\"})\n",
    "scorecardholder = scorecardholder.drop(\"HIGHDEG\",axis=1)\n",
    "scorecardholder = scorecardholder.drop(\"CONTROL\", axis=1)\n",
    "scorecardholder = scorecardholder.drop(\"UGDS\", axis=1)\n",
    "scorecard = scorecard.merge(scorecardholder, on=\"INSTNM\")\n",
    "\n",
    "#For 2016\n",
    "scorecardholder = pd.read_csv(\"rawdata/scorecarddatasets/scorecard2016.csv\")\n",
    "scorecardholder = scorecardholder.rename(columns = {\"ADM_RATE\": \"ADM_RATE2016\"})\n",
    "scorecardholder = scorecardholder.drop(\"HIGHDEG\",axis=1)\n",
    "scorecardholder = scorecardholder.drop(\"CONTROL\", axis=1)\n",
    "scorecardholder = scorecardholder.drop(\"UGDS\", axis=1)\n",
    "scorecard = scorecard.merge(scorecardholder, on=\"INSTNM\")\n",
    "\n",
    "#For 2015\n",
    "scorecardholder = pd.read_csv(\"rawdata/scorecarddatasets/scorecard2015.csv\")\n",
    "scorecardholder = scorecardholder.rename(columns = {\"ADM_RATE\": \"ADM_RATE2015\"})\n",
    "scorecardholder = scorecardholder.drop(\"HIGHDEG\",axis=1)\n",
    "scorecardholder = scorecardholder.drop(\"CONTROL\", axis=1)\n",
    "scorecardholder = scorecardholder.drop(\"UGDS\", axis=1)\n",
    "scorecard = scorecard.merge(scorecardholder, on=\"INSTNM\")\n",
    "\n",
    "#For 2014\n",
    "scorecardholder = pd.read_csv(\"rawdata/scorecarddatasets/scorecard2014.csv\")\n",
    "scorecardholder = scorecardholder.rename(columns = {\"ADM_RATE\": \"ADM_RATE2014\"})\n",
    "scorecardholder = scorecardholder.drop(\"HIGHDEG\",axis=1)\n",
    "scorecardholder = scorecardholder.drop(\"CONTROL\", axis=1)\n",
    "scorecardholder = scorecardholder.drop(\"UGDS\", axis=1)\n",
    "scorecard = scorecard.merge(scorecardholder, on=\"INSTNM\")\n",
    "\n",
    "#For 2013\n",
    "scorecardholder = pd.read_csv(\"rawdata/scorecarddatasets/scorecard2013.csv\")\n",
    "scorecardholder = scorecardholder.rename(columns = {\"ADM_RATE\": \"ADM_RATE2013\"})\n",
    "scorecardholder = scorecardholder.drop(\"HIGHDEG\",axis=1)\n",
    "scorecardholder = scorecardholder.drop(\"CONTROL\", axis=1)\n",
    "scorecardholder = scorecardholder.drop(\"UGDS\", axis=1)\n",
    "scorecard = scorecard.merge(scorecardholder, on=\"INSTNM\")"
   ]
  },
  {
   "cell_type": "code",
   "execution_count": 8,
   "id": "sensitive-sweet",
   "metadata": {},
   "outputs": [
    {
     "data": {
      "text/html": [
       "<div>\n",
       "<style scoped>\n",
       "    .dataframe tbody tr th:only-of-type {\n",
       "        vertical-align: middle;\n",
       "    }\n",
       "\n",
       "    .dataframe tbody tr th {\n",
       "        vertical-align: top;\n",
       "    }\n",
       "\n",
       "    .dataframe thead th {\n",
       "        text-align: right;\n",
       "    }\n",
       "</style>\n",
       "<table border=\"1\" class=\"dataframe\">\n",
       "  <thead>\n",
       "    <tr style=\"text-align: right;\">\n",
       "      <th></th>\n",
       "      <th>INSTNM</th>\n",
       "      <th>HIGHDEG</th>\n",
       "      <th>CONTROL</th>\n",
       "      <th>ADM_RATE2020</th>\n",
       "      <th>UGDS2020</th>\n",
       "      <th>ADM_RATE2019</th>\n",
       "      <th>ADM_RATE2018</th>\n",
       "      <th>ADM_RATE2017</th>\n",
       "      <th>ADM_RATE2016</th>\n",
       "      <th>ADM_RATE2015</th>\n",
       "      <th>ADM_RATE2014</th>\n",
       "      <th>ADM_RATE2013</th>\n",
       "    </tr>\n",
       "  </thead>\n",
       "  <tbody>\n",
       "    <tr>\n",
       "      <th>0</th>\n",
       "      <td>Alabama A &amp; M University</td>\n",
       "      <td>4</td>\n",
       "      <td>1</td>\n",
       "      <td>0.8965</td>\n",
       "      <td>5090.0</td>\n",
       "      <td>0.9175</td>\n",
       "      <td>0.8986</td>\n",
       "      <td>0.9027</td>\n",
       "      <td>0.8738</td>\n",
       "      <td>0.6538</td>\n",
       "      <td>0.5256</td>\n",
       "      <td>0.8989</td>\n",
       "    </tr>\n",
       "    <tr>\n",
       "      <th>1</th>\n",
       "      <td>University of Alabama at Birmingham</td>\n",
       "      <td>4</td>\n",
       "      <td>1</td>\n",
       "      <td>0.8060</td>\n",
       "      <td>13549.0</td>\n",
       "      <td>0.7366</td>\n",
       "      <td>0.9211</td>\n",
       "      <td>0.9181</td>\n",
       "      <td>0.5814</td>\n",
       "      <td>0.6043</td>\n",
       "      <td>0.8569</td>\n",
       "      <td>0.8673</td>\n",
       "    </tr>\n",
       "    <tr>\n",
       "      <th>2</th>\n",
       "      <td>University of Alabama in Huntsville</td>\n",
       "      <td>4</td>\n",
       "      <td>1</td>\n",
       "      <td>0.7711</td>\n",
       "      <td>7825.0</td>\n",
       "      <td>0.8257</td>\n",
       "      <td>0.8087</td>\n",
       "      <td>0.8123</td>\n",
       "      <td>0.7628</td>\n",
       "      <td>0.8120</td>\n",
       "      <td>0.8203</td>\n",
       "      <td>0.8062</td>\n",
       "    </tr>\n",
       "    <tr>\n",
       "      <th>3</th>\n",
       "      <td>Alabama State University</td>\n",
       "      <td>4</td>\n",
       "      <td>1</td>\n",
       "      <td>0.9888</td>\n",
       "      <td>3603.0</td>\n",
       "      <td>0.9690</td>\n",
       "      <td>0.9774</td>\n",
       "      <td>0.9787</td>\n",
       "      <td>0.4590</td>\n",
       "      <td>0.4639</td>\n",
       "      <td>0.5326</td>\n",
       "      <td>0.5125</td>\n",
       "    </tr>\n",
       "    <tr>\n",
       "      <th>4</th>\n",
       "      <td>The University of Alabama</td>\n",
       "      <td>4</td>\n",
       "      <td>1</td>\n",
       "      <td>0.8039</td>\n",
       "      <td>30610.0</td>\n",
       "      <td>0.8268</td>\n",
       "      <td>0.5906</td>\n",
       "      <td>0.5330</td>\n",
       "      <td>0.5259</td>\n",
       "      <td>0.5359</td>\n",
       "      <td>0.5105</td>\n",
       "      <td>0.5655</td>\n",
       "    </tr>\n",
       "  </tbody>\n",
       "</table>\n",
       "</div>"
      ],
      "text/plain": [
       "                                INSTNM  HIGHDEG  CONTROL  ADM_RATE2020  \\\n",
       "0             Alabama A & M University        4        1        0.8965   \n",
       "1  University of Alabama at Birmingham        4        1        0.8060   \n",
       "2  University of Alabama in Huntsville        4        1        0.7711   \n",
       "3             Alabama State University        4        1        0.9888   \n",
       "4            The University of Alabama        4        1        0.8039   \n",
       "\n",
       "   UGDS2020  ADM_RATE2019  ADM_RATE2018  ADM_RATE2017  ADM_RATE2016  \\\n",
       "0    5090.0        0.9175        0.8986        0.9027        0.8738   \n",
       "1   13549.0        0.7366        0.9211        0.9181        0.5814   \n",
       "2    7825.0        0.8257        0.8087        0.8123        0.7628   \n",
       "3    3603.0        0.9690        0.9774        0.9787        0.4590   \n",
       "4   30610.0        0.8268        0.5906        0.5330        0.5259   \n",
       "\n",
       "   ADM_RATE2015  ADM_RATE2014  ADM_RATE2013  \n",
       "0        0.6538        0.5256        0.8989  \n",
       "1        0.6043        0.8569        0.8673  \n",
       "2        0.8120        0.8203        0.8062  \n",
       "3        0.4639        0.5326        0.5125  \n",
       "4        0.5359        0.5105        0.5655  "
      ]
     },
     "execution_count": 8,
     "metadata": {},
     "output_type": "execute_result"
    }
   ],
   "source": [
    "#preview\n",
    "scorecard.head()"
   ]
  },
  {
   "cell_type": "code",
   "execution_count": 9,
   "id": "noble-arthur",
   "metadata": {},
   "outputs": [],
   "source": [
    "#produce a dataset\n",
    "\n",
    "scorecard.to_csv(\"cleandata/scorecard.csv\", sep='\\t')"
   ]
  },
  {
   "cell_type": "markdown",
   "id": "understanding-hindu",
   "metadata": {},
   "source": [
    "# 4.2 Calculating the win rates of schools' football teams at various years"
   ]
  },
  {
   "cell_type": "code",
   "execution_count": 10,
   "id": "rough-delaware",
   "metadata": {},
   "outputs": [],
   "source": [
    "#load all football datasets\n",
    "fball2013 = pd.read_csv(\"rawdata/fballdataset/cfb13.csv\")\n",
    "fball2014 = pd.read_csv(\"rawdata/fballdataset/cfb14.csv\")\n",
    "fball2015 = pd.read_csv(\"rawdata/fballdataset/cfb15.csv\")\n",
    "fball2016 = pd.read_csv(\"rawdata/fballdataset/cfb16.csv\")\n",
    "fball2017 = pd.read_csv(\"rawdata/fballdataset/cfb17.csv\")\n",
    "fball2018 = pd.read_csv(\"rawdata/fballdataset/cfb18.csv\")\n",
    "fball2019 = pd.read_csv(\"rawdata/fballdataset/cfb19.csv\")"
   ]
  },
  {
   "cell_type": "code",
   "execution_count": 11,
   "id": "involved-conversation",
   "metadata": {},
   "outputs": [],
   "source": [
    "# add a year column\n",
    "fball2013['Year'] = 2013\n",
    "fball2014['Year'] = 2014\n",
    "fball2015['Year'] = 2015\n",
    "fball2016['Year'] = 2016\n",
    "fball2017['Year'] = 2017\n",
    "fball2018['Year'] = 2018\n",
    "fball2019['Year'] = 2019"
   ]
  },
  {
   "cell_type": "code",
   "execution_count": 12,
   "id": "fitting-tennis",
   "metadata": {},
   "outputs": [
    {
     "name": "stdout",
     "output_type": "stream",
     "text": [
      "                        Team  Games  Win  Loss  Off.Rank  Off.Plays  \\\n",
      "125   West Virginia (Big 12)     12    5     7       119        788   \n",
      "126      Western Ky. (C-USA)     13    9     4        84        900   \n",
      "127      Western Mich. (MAC)     13    7     6        25        916   \n",
      "128      Wisconsin (Big Ten)     14   10     4        38        963   \n",
      "129  Wyoming (Mountain West)     13    8     5       106        831   \n",
      "\n",
      "     Off.Yards  Off.Yards.Play  Off.TDs  Total.TDs  ...  Turnover.Margin  \\\n",
      "125       3863            4.90       28        NaN  ...               -6   \n",
      "126       5041            5.60       38        NaN  ...               -6   \n",
      "127       5794            6.33       56        NaN  ...                8   \n",
      "128       6065            6.30       56        NaN  ...                0   \n",
      "129       4562            5.49       38        NaN  ...                5   \n",
      "\n",
      "     Avg.Turnover.Margin.per.Game  Year  ...40  Kickoff.Return.Def.Rank  \\\n",
      "125                         -0.50  2019  17.27                      9.0   \n",
      "126                         -0.46  2019  18.75                     28.0   \n",
      "127                          0.62  2019  20.40                     61.0   \n",
      "128                          0.00  2019  17.00                      6.0   \n",
      "129                          0.38  2019  20.00                     50.0   \n",
      "\n",
      "     Opp.Kickoff.Returns  Kickoff.Touchbacks  Opponent.Kickoff.Return.Yards  \\\n",
      "125                 22.0                21.0                          380.0   \n",
      "126                 28.0                33.0                          525.0   \n",
      "127                 42.0                15.0                          857.0   \n",
      "128                 16.0                69.0                          272.0   \n",
      "129                 17.0                44.0                          340.0   \n",
      "\n",
      "     Opp.Kickoff.Return.Touchdowns.Allowed  \\\n",
      "125                                    0.0   \n",
      "126                                    0.0   \n",
      "127                                    1.0   \n",
      "128                                    0.0   \n",
      "129                                    0.0   \n",
      "\n",
      "     Avg.Yards.per.Kickoff.Return.Allowed  \n",
      "125                                 17.27  \n",
      "126                                 18.75  \n",
      "127                                 20.40  \n",
      "128                                 17.00  \n",
      "129                                 20.00  \n",
      "\n",
      "[5 rows x 154 columns]\n"
     ]
    }
   ],
   "source": [
    "# create the master dataframebb\n",
    "fball = pd.DataFrame()\n",
    "fball = fball.append(fball2013)\n",
    "fball = fball.append(fball2014)\n",
    "fball = fball.append(fball2015)\n",
    "fball = fball.append(fball2016)\n",
    "fball = fball.append(fball2017)\n",
    "fball = fball.append(fball2018)\n",
    "fball = fball.append(fball2019)\n",
    "\n",
    "#test print with last year to make sure it's added correctly\n",
    "print(fball.tail())"
   ]
  },
  {
   "cell_type": "code",
   "execution_count": 13,
   "id": "discrete-runner",
   "metadata": {},
   "outputs": [
    {
     "data": {
      "text/plain": [
       "['Team',\n",
       " 'Games',\n",
       " 'Win',\n",
       " 'Loss',\n",
       " 'Off.Rank',\n",
       " 'Off.Plays',\n",
       " 'Off.Yards',\n",
       " 'Off.Yards.Play',\n",
       " 'Off.TDs',\n",
       " 'Total.TDs',\n",
       " 'Off.Yards.per.Game',\n",
       " 'Def.Rank',\n",
       " 'Def.Plays',\n",
       " 'Yards.Allowed',\n",
       " 'Yards.Play.Allowed',\n",
       " 'Off.TDs.Allowed',\n",
       " 'Total.TDs.Allowed',\n",
       " 'Yards.Per.Game.Allowed',\n",
       " 'First.Down.Rank',\n",
       " 'First.Down.Runs',\n",
       " 'First.Down.Passes',\n",
       " 'First.Down.Penalties',\n",
       " 'First.Downs',\n",
       " 'First.Down.Def.Rank',\n",
       " 'Opp.First.Down.Runs',\n",
       " 'Opp.First.Down.Passes',\n",
       " 'Opp.First.Down.Penalties',\n",
       " 'Opp.First.Downs',\n",
       " 'X4th.Down.Rank',\n",
       " 'X4th.Attempts',\n",
       " 'X4th.Conversions',\n",
       " 'X4th.Percent',\n",
       " 'X4rd.Down.Def.Rank',\n",
       " 'Opp.4th.Conversion',\n",
       " 'Opp.4th.Attempt',\n",
       " 'Opponent.4th.Percent',\n",
       " 'Kickoff.Return.Rank',\n",
       " 'Kickoffs.Returned',\n",
       " 'Kickoff.Return.Yards',\n",
       " 'Kickoff.Return.Touchdowns',\n",
       " 'Avg.Yard.per.Kickoff.Return',\n",
       " 'Passing.Off.Rank',\n",
       " 'Pass.Attempts',\n",
       " 'Pass.Completions',\n",
       " 'Interceptions.Thrown.x',\n",
       " 'Pass.Yards',\n",
       " 'Pass.Yards.Attempt',\n",
       " 'Yards.Completion',\n",
       " 'Pass.Touchdowns',\n",
       " 'Pass.Yards.Per.Game',\n",
       " 'Pass.Def.Rank',\n",
       " 'Opp.Completions.Allowed',\n",
       " 'Opp.Pass.Attempts',\n",
       " 'Opp.Pass.Yds.Allowed',\n",
       " 'Opp.Pass.TDs.Allowed',\n",
       " 'Yards.Attempt.Allowed',\n",
       " 'Yards.Completion.Allowed',\n",
       " 'Pass.Yards.Per.Game.Allowed',\n",
       " 'Penalty.Rank',\n",
       " 'Penalties',\n",
       " 'Penalty.Yards',\n",
       " 'Penalty.Yards.Per.Game',\n",
       " 'Punt.Return.Rank',\n",
       " 'Punt.Returns',\n",
       " 'Net.Punt.Return.Yards',\n",
       " 'Punt.Return.Touchdowns',\n",
       " 'Avg.Yards.Per.Punt.Return',\n",
       " 'Punt.Return.Def.Rank',\n",
       " 'Opp.Punt.Returns',\n",
       " 'Opp.Net.Punt.Return.Yards',\n",
       " 'Opp.Punt.Return.Touchdowns.Allowed',\n",
       " 'Avg.Yards.Allowed.per.Punt.Return',\n",
       " 'Redzone.Off.Rank',\n",
       " 'Redzone.Attempts',\n",
       " 'Redzone.Rush.TD',\n",
       " 'Redzone.Pass.TD',\n",
       " 'Redzone.Field.Goals.Made',\n",
       " 'Redzone.Scores',\n",
       " 'Redzone.Points',\n",
       " 'Redzone.Def.Rank',\n",
       " 'Opp.Redzone.Attempts',\n",
       " 'Opp.Redzone.Rush.TD.Allowed',\n",
       " 'Opp.Redzone.Pass.Touchdowns.Allowed',\n",
       " 'Opp.Redzone.Field.Goals.Made',\n",
       " 'Opp.Redzone.Scores',\n",
       " 'Redzone.Points.Allowed',\n",
       " 'Rushing.Off.Rank',\n",
       " 'Rush.Attempts',\n",
       " 'Rush.Yds',\n",
       " 'Yards.Rush',\n",
       " 'Rushing.TD',\n",
       " 'Rushing.Yards.per.Game',\n",
       " 'Rushing.Def.Rank',\n",
       " 'Opp.Rush.Attempts',\n",
       " 'Opp.Rush.Yards.Alloweed',\n",
       " 'Yds.Rush.Allowed',\n",
       " 'Opp.Rush.Touchdowns.Allowed',\n",
       " 'Rush.Yards.Per.Game.Allowed',\n",
       " 'Sack.Rank',\n",
       " 'Sacks',\n",
       " 'Sack.Yards',\n",
       " 'Average.Sacks.per.Game',\n",
       " 'Scoring.Def.Rank',\n",
       " 'Touchdowns.Allowed',\n",
       " 'Opponent.Extra.Points',\n",
       " 'X2.Point.Conversions.Allowed',\n",
       " 'Opp.Deflected.Extra.Points',\n",
       " 'Opp.Feild.Goals.Made',\n",
       " 'Opp.Safety',\n",
       " 'Points.Allowed',\n",
       " 'Avg.Points.per.Game.Allowed',\n",
       " 'Scoring.Off.Rank',\n",
       " 'Touchdowns',\n",
       " 'PAT',\n",
       " 'X2.Point.Conversions',\n",
       " 'Defensive.Points',\n",
       " 'Feild.Goals',\n",
       " 'Safety',\n",
       " 'Total.Points',\n",
       " 'Points.Per.Game',\n",
       " 'Tackle.for.Loss.Rank',\n",
       " 'Solo.Tackle.For.Loss',\n",
       " 'Assist.Tackle.For.Loss',\n",
       " 'Tackle.for.Loss.Yards',\n",
       " 'Total.Tackle.For.Loss',\n",
       " 'Tackle.For.Loss.Per.Game',\n",
       " 'X3rd.Down.Rank',\n",
       " 'X3rd.Attempts',\n",
       " 'X3rd.Conversions',\n",
       " 'X3rd.Percent',\n",
       " 'X3rd.Down.Def.Rank',\n",
       " 'Opp.3rd.Conversion',\n",
       " 'Opp.3rd.Attempt',\n",
       " 'Opponent.3rd.Percent',\n",
       " 'Time.of.Possession.Rank',\n",
       " 'Time.of.Possession',\n",
       " 'Average.Time.of.Possession.per.Game',\n",
       " 'Turnover.Rank',\n",
       " 'Fumbles.Recovered',\n",
       " 'Opponents.Intercepted',\n",
       " 'Turnovers.Gain',\n",
       " 'Fumbles.Lost',\n",
       " 'Interceptions.Thrown.y',\n",
       " 'Turnovers.Lost',\n",
       " 'Turnover.Margin',\n",
       " 'Avg.Turnover.Margin.per.Game',\n",
       " 'Year',\n",
       " '...40',\n",
       " 'Kickoff.Return.Def.Rank',\n",
       " 'Opp.Kickoff.Returns',\n",
       " 'Kickoff.Touchbacks',\n",
       " 'Opponent.Kickoff.Return.Yards',\n",
       " 'Opp.Kickoff.Return.Touchdowns.Allowed',\n",
       " 'Avg.Yards.per.Kickoff.Return.Allowed']"
      ]
     },
     "execution_count": 13,
     "metadata": {},
     "output_type": "execute_result"
    }
   ],
   "source": [
    "#Get the name of columns\n",
    "list(fball.columns)"
   ]
  },
  {
   "cell_type": "code",
   "execution_count": 14,
   "id": "fitting-resistance",
   "metadata": {},
   "outputs": [
    {
     "data": {
      "text/html": [
       "<div>\n",
       "<style scoped>\n",
       "    .dataframe tbody tr th:only-of-type {\n",
       "        vertical-align: middle;\n",
       "    }\n",
       "\n",
       "    .dataframe tbody tr th {\n",
       "        vertical-align: top;\n",
       "    }\n",
       "\n",
       "    .dataframe thead th {\n",
       "        text-align: right;\n",
       "    }\n",
       "</style>\n",
       "<table border=\"1\" class=\"dataframe\">\n",
       "  <thead>\n",
       "    <tr style=\"text-align: right;\">\n",
       "      <th></th>\n",
       "      <th>Team</th>\n",
       "      <th>Year</th>\n",
       "      <th>Games</th>\n",
       "      <th>Wins</th>\n",
       "    </tr>\n",
       "  </thead>\n",
       "  <tbody>\n",
       "    <tr>\n",
       "      <th>0</th>\n",
       "      <td>Akron (MAC)</td>\n",
       "      <td>2013</td>\n",
       "      <td>12</td>\n",
       "      <td>5</td>\n",
       "    </tr>\n",
       "    <tr>\n",
       "      <th>1</th>\n",
       "      <td>Alabama (SEC)</td>\n",
       "      <td>2013</td>\n",
       "      <td>13</td>\n",
       "      <td>11</td>\n",
       "    </tr>\n",
       "    <tr>\n",
       "      <th>2</th>\n",
       "      <td>Arizona (Pac-12)</td>\n",
       "      <td>2013</td>\n",
       "      <td>13</td>\n",
       "      <td>8</td>\n",
       "    </tr>\n",
       "    <tr>\n",
       "      <th>3</th>\n",
       "      <td>Arizona St. (Pac-12)</td>\n",
       "      <td>2013</td>\n",
       "      <td>14</td>\n",
       "      <td>10</td>\n",
       "    </tr>\n",
       "    <tr>\n",
       "      <th>4</th>\n",
       "      <td>Arkansas (SEC)</td>\n",
       "      <td>2013</td>\n",
       "      <td>12</td>\n",
       "      <td>3</td>\n",
       "    </tr>\n",
       "  </tbody>\n",
       "</table>\n",
       "</div>"
      ],
      "text/plain": [
       "                   Team  Year  Games  Wins\n",
       "0           Akron (MAC)  2013     12     5\n",
       "1         Alabama (SEC)  2013     13    11\n",
       "2      Arizona (Pac-12)  2013     13     8\n",
       "3  Arizona St. (Pac-12)  2013     14    10\n",
       "4        Arkansas (SEC)  2013     12     3"
      ]
     },
     "execution_count": 14,
     "metadata": {},
     "output_type": "execute_result"
    }
   ],
   "source": [
    "#filter to only relevant columns\n",
    "fball = fball[['Team','Year', 'Games', 'Win']]\n",
    "fball = fball.rename(columns={\"Win\":\"Wins\"})\n",
    "\n",
    "fball.head()"
   ]
  },
  {
   "cell_type": "code",
   "execution_count": 15,
   "id": "ranking-indiana",
   "metadata": {},
   "outputs": [
    {
     "data": {
      "text/html": [
       "<div>\n",
       "<style scoped>\n",
       "    .dataframe tbody tr th:only-of-type {\n",
       "        vertical-align: middle;\n",
       "    }\n",
       "\n",
       "    .dataframe tbody tr th {\n",
       "        vertical-align: top;\n",
       "    }\n",
       "\n",
       "    .dataframe thead th {\n",
       "        text-align: right;\n",
       "    }\n",
       "</style>\n",
       "<table border=\"1\" class=\"dataframe\">\n",
       "  <thead>\n",
       "    <tr style=\"text-align: right;\">\n",
       "      <th></th>\n",
       "      <th>Team</th>\n",
       "      <th>Year</th>\n",
       "      <th>Games</th>\n",
       "      <th>Wins</th>\n",
       "    </tr>\n",
       "  </thead>\n",
       "  <tbody>\n",
       "    <tr>\n",
       "      <th>0</th>\n",
       "      <td>Akron</td>\n",
       "      <td>2013</td>\n",
       "      <td>12</td>\n",
       "      <td>5</td>\n",
       "    </tr>\n",
       "    <tr>\n",
       "      <th>1</th>\n",
       "      <td>Alabama</td>\n",
       "      <td>2013</td>\n",
       "      <td>13</td>\n",
       "      <td>11</td>\n",
       "    </tr>\n",
       "    <tr>\n",
       "      <th>2</th>\n",
       "      <td>Arizona</td>\n",
       "      <td>2013</td>\n",
       "      <td>13</td>\n",
       "      <td>8</td>\n",
       "    </tr>\n",
       "    <tr>\n",
       "      <th>3</th>\n",
       "      <td>Arizona St.</td>\n",
       "      <td>2013</td>\n",
       "      <td>14</td>\n",
       "      <td>10</td>\n",
       "    </tr>\n",
       "    <tr>\n",
       "      <th>4</th>\n",
       "      <td>Arkansas</td>\n",
       "      <td>2013</td>\n",
       "      <td>12</td>\n",
       "      <td>3</td>\n",
       "    </tr>\n",
       "  </tbody>\n",
       "</table>\n",
       "</div>"
      ],
      "text/plain": [
       "          Team  Year  Games  Wins\n",
       "0        Akron  2013     12     5\n",
       "1      Alabama  2013     13    11\n",
       "2      Arizona  2013     13     8\n",
       "3  Arizona St.  2013     14    10\n",
       "4     Arkansas  2013     12     3"
      ]
     },
     "execution_count": 15,
     "metadata": {},
     "output_type": "execute_result"
    }
   ],
   "source": [
    "#clean the football name title\n",
    "\n",
    "#define function\n",
    "def teamclean(row):\n",
    "    team = row['Team']\n",
    "    #get index of '('\n",
    "    index = team.index('(')\n",
    "    #remove to get rid of space\n",
    "    index = index-1\n",
    "    #splice the existing team string\n",
    "    cleanedteam = team[0:index]\n",
    "    return cleanedteam\n",
    "\n",
    "fball[\"Team\"] = fball.apply(lambda row: teamclean(row), axis =1)\n",
    "fball.head()"
   ]
  },
  {
   "cell_type": "code",
   "execution_count": 16,
   "id": "advisory-hampshire",
   "metadata": {},
   "outputs": [
    {
     "data": {
      "text/html": [
       "<div>\n",
       "<style scoped>\n",
       "    .dataframe tbody tr th:only-of-type {\n",
       "        vertical-align: middle;\n",
       "    }\n",
       "\n",
       "    .dataframe tbody tr th {\n",
       "        vertical-align: top;\n",
       "    }\n",
       "\n",
       "    .dataframe thead th {\n",
       "        text-align: right;\n",
       "    }\n",
       "</style>\n",
       "<table border=\"1\" class=\"dataframe\">\n",
       "  <thead>\n",
       "    <tr style=\"text-align: right;\">\n",
       "      <th></th>\n",
       "      <th>Team</th>\n",
       "      <th>Year</th>\n",
       "      <th>Games</th>\n",
       "      <th>Wins</th>\n",
       "      <th>Win Rate</th>\n",
       "    </tr>\n",
       "  </thead>\n",
       "  <tbody>\n",
       "    <tr>\n",
       "      <th>0</th>\n",
       "      <td>Akron</td>\n",
       "      <td>2013</td>\n",
       "      <td>12</td>\n",
       "      <td>5</td>\n",
       "      <td>0.4167</td>\n",
       "    </tr>\n",
       "    <tr>\n",
       "      <th>1</th>\n",
       "      <td>Alabama</td>\n",
       "      <td>2013</td>\n",
       "      <td>13</td>\n",
       "      <td>11</td>\n",
       "      <td>0.8462</td>\n",
       "    </tr>\n",
       "    <tr>\n",
       "      <th>2</th>\n",
       "      <td>Arizona</td>\n",
       "      <td>2013</td>\n",
       "      <td>13</td>\n",
       "      <td>8</td>\n",
       "      <td>0.6154</td>\n",
       "    </tr>\n",
       "    <tr>\n",
       "      <th>3</th>\n",
       "      <td>Arizona St.</td>\n",
       "      <td>2013</td>\n",
       "      <td>14</td>\n",
       "      <td>10</td>\n",
       "      <td>0.7143</td>\n",
       "    </tr>\n",
       "    <tr>\n",
       "      <th>4</th>\n",
       "      <td>Arkansas</td>\n",
       "      <td>2013</td>\n",
       "      <td>12</td>\n",
       "      <td>3</td>\n",
       "      <td>0.2500</td>\n",
       "    </tr>\n",
       "  </tbody>\n",
       "</table>\n",
       "</div>"
      ],
      "text/plain": [
       "          Team  Year  Games  Wins  Win Rate\n",
       "0        Akron  2013     12     5    0.4167\n",
       "1      Alabama  2013     13    11    0.8462\n",
       "2      Arizona  2013     13     8    0.6154\n",
       "3  Arizona St.  2013     14    10    0.7143\n",
       "4     Arkansas  2013     12     3    0.2500"
      ]
     },
     "execution_count": 16,
     "metadata": {},
     "output_type": "execute_result"
    }
   ],
   "source": [
    "fball[\"Year\"] = pd.to_numeric(fball[\"Year\"])\n",
    "fball[\"Games\"] = pd.to_numeric(fball[\"Games\"])\n",
    "fball[\"Wins\"] = pd.to_numeric(fball[\"Wins\"])\n",
    "\n",
    "#Create the ratio column\n",
    "def winloseratio(row):\n",
    "    wins = row['Wins']\n",
    "    games = row['Games']\n",
    "    ratio = wins/games\n",
    "    ratio = round(ratio, 4)\n",
    "    return ratio\n",
    "\n",
    "fball[\"Win Rate\"] = fball.apply(lambda row: winloseratio(row), axis =1)\n",
    "fball.head()"
   ]
  },
  {
   "cell_type": "code",
   "execution_count": 17,
   "id": "super-leave",
   "metadata": {},
   "outputs": [],
   "source": [
    "#produce a dataset\n",
    "\n",
    "fball.to_csv(\"cleandata/footballwinrate.csv\", sep='\\t')"
   ]
  },
  {
   "cell_type": "markdown",
   "id": "retired-cambridge",
   "metadata": {},
   "source": [
    "# 4.3 Randomly selecting 60 schools."
   ]
  },
  {
   "cell_type": "markdown",
   "id": "seven-stroke",
   "metadata": {},
   "source": [
    "If you haven't noticed, the team names have some shortening of the university compared to the official college scorecard. It feels like a simple script \n",
    "\n",
    "> if (no \" \" in team){team = \"University of \" + team}\n",
    "\n",
    "This covers University of Akron, University of Alabama, University of Arizona, and University of Arkansas.\n",
    "\n",
    "Then you get to \"St.\"\n",
    "\n",
    "> If (\"St.\" in team){team.replace(\"St.\", \"State University\")}\n",
    "\n",
    "This covers Ohio State University, Arizona State University, Iowa State University.\n",
    "\n",
    "Then you get to Ohio.\n",
    "\n",
    ">If (Team == \"Ohio){team = \"Ohio University\"}\n",
    "\n",
    "And then University of Mississippi\n",
    "\n",
    ">If (Team == \"Ole Miss\"){team = \"University of Mississippi}\n",
    "\n",
    "And other edge cases\n",
    "\n",
    ">If (Team == \"California){team = \"University of California Berkeley}"
   ]
  },
  {
   "cell_type": "markdown",
   "id": "sitting-engineering",
   "metadata": {},
   "source": [
    "And on the college scorecard dataset there are certain nuances between satellite and main campuses to figure out which school the football team is representing.\n",
    "\n",
    "University of Houston could either be Clear Lake, Downtown, Victoria, or just University of Houston. \n",
    "\n",
    "Texas A & M could be Corpus Christi, Commerce, International University, Kingsville, or College Station. In these instances, I selected the main campus as most likely to benefit from college football wins. **The college scorecard dataset does differentiate between main and satellite campuses, but I am not sure about how accurate it is for my goals and whether satellites might have their own teams too such as UC Davis & UCLA Football teams.**"
   ]
  },
  {
   "cell_type": "markdown",
   "id": "cognitive-extraction",
   "metadata": {},
   "source": [
    "Since I don't have confidence in my abiliies to automate this task, I decided to merge the datapoints manually. I randomly sampled 100 datapoints from the college football dataste of team/year pairings. From the 100 sample, I calculated the percent change in admissions from the given year to the following year for 59 data points. I oversampled anticipating private schools being included in the CFB sample and therefore not having access to the corresponding data in the College Scorecard. \n",
    "\n",
    "In the code below I did not use a seed value and therefore your dataset will be different from the one that I generated."
   ]
  },
  {
   "cell_type": "code",
   "execution_count": 18,
   "id": "buried-commonwealth",
   "metadata": {},
   "outputs": [],
   "source": [
    "#uncomment to produce a new sample\n",
    "\n",
    "#samplefootball=fball.sample(n=100)\n",
    "#samplefootball.to_csv(\"cleandata/samplefootball.csv\", sep='\\t')"
   ]
  },
  {
   "cell_type": "markdown",
   "id": "excellent-plate",
   "metadata": {},
   "source": [
    "Here is a graph to check your sampling distribution per year."
   ]
  },
  {
   "cell_type": "code",
   "execution_count": 19,
   "id": "traditional-alarm",
   "metadata": {},
   "outputs": [
    {
     "data": {
      "image/png": "[encoded data removed]",
      "text/plain": [
       "<Figure size 842.4x595.44 with 1 Axes>"
      ]
     },
     "metadata": {},
     "output_type": "display_data"
    }
   ],
   "source": [
    "#change to include your produced dataset\n",
    "admissionsalary = pd.read_csv(\"cleandata/samplefootball.csv\", sep=\",\", encoding=\"utf-8-sig\")\n",
    "\n",
    "sns.set(rc={'figure.figsize':(11.7,8.27)})\n",
    "sns.set_theme(style=\"dark\")\n",
    "ax = sns.histplot(x=\"Year\", data=admissionsalary).set(title = 'Distributing of University Sampling per Year')\n",
    "plt.savefig('datavisualizations/sampledistribution.png')"
   ]
  },
  {
   "cell_type": "markdown",
   "id": "partial-guidance",
   "metadata": {},
   "source": [
    "# 4.4 Measuring the percent change of admissions between that year and the following year."
   ]
  },
  {
   "cell_type": "markdown",
   "id": "blessed-workshop",
   "metadata": {},
   "source": [
    "In calculating percent admission change, use the year of the sample to find the admission rate of that year and the following year.\n",
    "\n",
    "| School | Year | Win Rate | 2013 Adm_Rate | 2014 Adm_Rate | Percent Change |\n",
    "|-|-|-|-| - | - |\n",
    "|University of Akron | 2013 | 0.4167 | 0.9649 | 0.9571 | -0.80 |\n",
    "\n",
    "Percentage difference was selected over standard difference due to variance in size of the university and differences in prestige of the university. This allows for a more fair comparisson between schools. The difference between 83 to 80 % is the same as 10 to 9.68%.\n",
    "\n",
    "When entering in the info, do not include a percentage sign. The samplefootballsalaries.csv has the percentage admissions rate of those that I sampled."
   ]
  },
  {
   "cell_type": "markdown",
   "id": "continuing-pregnancy",
   "metadata": {},
   "source": [
    "# 4.5 Identify how much the coach was being paid for that given year."
   ]
  },
  {
   "cell_type": "markdown",
   "id": "bright-genealogy",
   "metadata": {},
   "source": [
    "**This is the step with the highest degree of error**\n",
    "\n",
    "The USAToday has a database of the highest paid NCAA CFB coaches because they submit a request for information from the participating schools in the NCAA. If you have access to that, I suggest you use it, otherwise this step will include a lot errors.\n",
    "\n",
    "## Why this might be completely wrong\n",
    "\n",
    "To figure out the head coach salary, I had to figure out who was the head coach at for that given year. If there was a transition between coaches, I attempted to use best judgement such as whether they were hired in January or December.\n",
    "\n",
    "I then googled the head coach salary at a given year. This would produce a range of resources such as a reports that came out this year detailing their past salary or reports from the past that would predict how much someone would get paid in the time frame I'm looking for.\n",
    "\n",
    "The jargon in particular is extremely confusing. Coaches could be described with base salary, supplemental compensation, retention, multi-year compensation, bonuses, endoresement deals, apparel contracts, guarantee pay, buyouts, and more.\n",
    "\n",
    "The coach salary in my study is extremeley flawed and therefore should be taken with a grain of salt. It's uncertain how accurate the wide range in pay as shown by my study is. This could instead be an outcome of including the bonuses for some coaches while only base pay for others.\n",
    "\n",
    "The samplefootballsalaries.csv has the final pay that I was able to find, for the head coaches of rows that I sampled."
   ]
  },
  {
   "cell_type": "markdown",
   "id": "native-chemistry",
   "metadata": {},
   "source": [
    "Attached is a graph to show the distribution of salary"
   ]
  },
  {
   "cell_type": "code",
   "execution_count": 20,
   "id": "aggregate-anxiety",
   "metadata": {},
   "outputs": [
    {
     "data": {
      "image/png": "[encoded data removed]",
      "text/plain": [
       "<Figure size 842.4x595.44 with 1 Axes>"
      ]
     },
     "metadata": {},
     "output_type": "display_data"
    }
   ],
   "source": [
    "#change to your own data\n",
    "admissionsalary = pd.read_csv(\"cleandata/samplefootballsalaries.csv\", sep=\",\", encoding=\"utf-8-sig\")\n",
    "\n",
    "sns.histplot(data = admissionsalary, x=\"Salary\", color = 'navy', alpha = 1, bins = 10, fill=False, kde = True).set(title = \"Count of Coaches per Salary Bucket, Per Million\")\n",
    "plt.savefig('datavisualizations/samplesalary.png')"
   ]
  },
  {
   "cell_type": "markdown",
   "id": "rolled-editing",
   "metadata": {},
   "source": [
    "# 4.6 Run a pearson coefficient between Win Ratio and Admission Change\n",
    "\n",
    "Dealing with my more accurate columns, I ran a pearson coefficent on the win ratio and admission percent changes."
   ]
  },
  {
   "cell_type": "code",
   "execution_count": 21,
   "id": "demographic-indication",
   "metadata": {},
   "outputs": [
    {
     "data": {
      "text/html": [
       "<div>\n",
       "<style scoped>\n",
       "    .dataframe tbody tr th:only-of-type {\n",
       "        vertical-align: middle;\n",
       "    }\n",
       "\n",
       "    .dataframe tbody tr th {\n",
       "        vertical-align: top;\n",
       "    }\n",
       "\n",
       "    .dataframe thead th {\n",
       "        text-align: right;\n",
       "    }\n",
       "</style>\n",
       "<table border=\"1\" class=\"dataframe\">\n",
       "  <thead>\n",
       "    <tr style=\"text-align: right;\">\n",
       "      <th></th>\n",
       "      <th>Unnamed: 0</th>\n",
       "      <th>Team</th>\n",
       "      <th>Year</th>\n",
       "      <th>Games</th>\n",
       "      <th>Wins</th>\n",
       "      <th>Win Rate</th>\n",
       "      <th>Adm  Change</th>\n",
       "      <th>Salary</th>\n",
       "    </tr>\n",
       "  </thead>\n",
       "  <tbody>\n",
       "    <tr>\n",
       "      <th>0</th>\n",
       "      <td>62</td>\n",
       "      <td>Mississippi St.</td>\n",
       "      <td>2017</td>\n",
       "      <td>13</td>\n",
       "      <td>9</td>\n",
       "      <td>0.6923</td>\n",
       "      <td>-8.78</td>\n",
       "      <td>4500000</td>\n",
       "    </tr>\n",
       "    <tr>\n",
       "      <th>1</th>\n",
       "      <td>46</td>\n",
       "      <td>Memphis</td>\n",
       "      <td>2013</td>\n",
       "      <td>12</td>\n",
       "      <td>3</td>\n",
       "      <td>0.2500</td>\n",
       "      <td>-30.70</td>\n",
       "      <td>956779</td>\n",
       "    </tr>\n",
       "    <tr>\n",
       "      <th>2</th>\n",
       "      <td>53</td>\n",
       "      <td>Marshall</td>\n",
       "      <td>2019</td>\n",
       "      <td>13</td>\n",
       "      <td>8</td>\n",
       "      <td>0.6154</td>\n",
       "      <td>2.71</td>\n",
       "      <td>789367</td>\n",
       "    </tr>\n",
       "    <tr>\n",
       "      <th>3</th>\n",
       "      <td>29</td>\n",
       "      <td>Houston</td>\n",
       "      <td>2014</td>\n",
       "      <td>13</td>\n",
       "      <td>8</td>\n",
       "      <td>0.6154</td>\n",
       "      <td>-1.98</td>\n",
       "      <td>1350000</td>\n",
       "    </tr>\n",
       "    <tr>\n",
       "      <th>4</th>\n",
       "      <td>51</td>\n",
       "      <td>Louisville</td>\n",
       "      <td>2019</td>\n",
       "      <td>13</td>\n",
       "      <td>8</td>\n",
       "      <td>0.6154</td>\n",
       "      <td>-6.00</td>\n",
       "      <td>3250000</td>\n",
       "    </tr>\n",
       "  </tbody>\n",
       "</table>\n",
       "</div>"
      ],
      "text/plain": [
       "   Unnamed: 0             Team  Year  Games  Wins  Win Rate  Adm  Change  \\\n",
       "0          62  Mississippi St.  2017     13     9    0.6923        -8.78   \n",
       "1          46          Memphis  2013     12     3    0.2500       -30.70   \n",
       "2          53         Marshall  2019     13     8    0.6154         2.71   \n",
       "3          29          Houston  2014     13     8    0.6154        -1.98   \n",
       "4          51       Louisville  2019     13     8    0.6154        -6.00   \n",
       "\n",
       "    Salary  \n",
       "0  4500000  \n",
       "1   956779  \n",
       "2   789367  \n",
       "3  1350000  \n",
       "4  3250000  "
      ]
     },
     "execution_count": 21,
     "metadata": {},
     "output_type": "execute_result"
    }
   ],
   "source": [
    "#import the final dataset\n",
    "\n",
    "admissionsalary = pd.read_csv(\"cleandata/samplefootballsalaries.csv\", sep=\",\", encoding=\"utf-8-sig\")\n",
    "admissionsalary.head()"
   ]
  },
  {
   "cell_type": "code",
   "execution_count": 22,
   "id": "presidential-madrid",
   "metadata": {},
   "outputs": [
    {
     "name": "stdout",
     "output_type": "stream",
     "text": [
      "Unnamed: 0\n",
      "Team\n",
      "Year\n",
      "Games\n",
      "Wins\n",
      "Win Rate\n",
      "Adm  Change\n",
      "Salary\n"
     ]
    }
   ],
   "source": [
    "#get list of columns in case there's a mispelling\n",
    "\n",
    "for col in admissionsalary.columns:\n",
    "    print(col)"
   ]
  },
  {
   "cell_type": "code",
   "execution_count": 23,
   "id": "weird-analysis",
   "metadata": {},
   "outputs": [
    {
     "data": {
      "text/plain": [
       "0.09867589198257229"
      ]
     },
     "execution_count": 23,
     "metadata": {},
     "output_type": "execute_result"
    }
   ],
   "source": [
    "#use .corr() function for correlation coefficient\n",
    "admissionsalary[\"Win Rate\"].corr(admissionsalary['Adm  Change'])"
   ]
  },
  {
   "cell_type": "markdown",
   "id": "cultural-intersection",
   "metadata": {},
   "source": [
    "There is a weak correlation between win rate and amission change, indicating a greater win rate could have a small increase in admission rates."
   ]
  },
  {
   "cell_type": "markdown",
   "id": "concrete-corrections",
   "metadata": {},
   "source": [
    "# 4.7 Run a pearson coefficient between Admission Change and Coach Salary\n",
    "\n",
    "A same pearson coefficient with Coach Salary on Admission Change as well."
   ]
  },
  {
   "cell_type": "code",
   "execution_count": 24,
   "id": "looking-rotation",
   "metadata": {},
   "outputs": [
    {
     "data": {
      "text/plain": [
       "0.02083728250805763"
      ]
     },
     "execution_count": 24,
     "metadata": {},
     "output_type": "execute_result"
    }
   ],
   "source": [
    "admissionsalary[\"Salary\"].corr(admissionsalary['Adm  Change'])"
   ]
  },
  {
   "cell_type": "markdown",
   "id": "considerable-degree",
   "metadata": {},
   "source": [
    "There is an even weaker correlation between salary and admission change. This also counters the Flutie effect."
   ]
  },
  {
   "cell_type": "markdown",
   "id": "genetic-pursuit",
   "metadata": {},
   "source": [
    "# Findings\n",
    "\n",
    "In this analysis, I found a very weak correlation between admission changes and win rates of football teams and between admission changes and head coach salaries. As the coefficients were significantly insignifcant (less than the absolute value of 0.95), a coaches salary is shown to have no easily discernable effect on admission rates and the null hypothesis was not disproven.\n",
    "\n",
    "Even as my methods for determining coach salary were immensely flawed, this assessment disproves a significant correlation between win rates and admission changes and therefore also disproving the Flutie Effect."
   ]
  },
  {
   "cell_type": "code",
   "execution_count": 25,
   "id": "artistic-assembly",
   "metadata": {},
   "outputs": [],
   "source": [
    "#Renaming my variables\n",
    "admissionsalary = admissionsalary.rename({\"Adm  Change\": \"Admission Change\"}, axis = 1)"
   ]
  },
  {
   "cell_type": "markdown",
   "id": "cleared-radio",
   "metadata": {},
   "source": [
    "If we create scatterplot then we can see the complete lack of any discernable pattern. While it does show some outliers, the manual nature of calculating the change in admission rates does provide greater confidence that these values are correct."
   ]
  },
  {
   "cell_type": "code",
   "execution_count": 26,
   "id": "expected-steal",
   "metadata": {},
   "outputs": [
    {
     "data": {
      "image/png": "[encoded data removed]",
      "text/plain": [
       "<Figure size 842.4x595.44 with 1 Axes>"
      ]
     },
     "metadata": {},
     "output_type": "display_data"
    }
   ],
   "source": [
    "sns.set_theme(style=\"white\")\n",
    "sns.scatterplot(data=admissionsalary, x=\"Win Rate\", y=\"Admission Change\").set(title=\"Win Rate effect on Admission Change\")\n",
    "plt.savefig('datavisualizations/WinRateAdmissionChange.png')"
   ]
  },
  {
   "cell_type": "markdown",
   "id": "equipped-builder",
   "metadata": {},
   "source": [
    "Introducing coach salaries further provides no real relationship. \n",
    "\n",
    "While there is an argument that those with larger salaries are the ones who compete against each other, it begs the question why does a team with the highest paid coach salary have a win rate of less than 0.5.\n",
    "\n",
    "There also appears to be an interesting bottle-neck effect. On the far right, schools with the highest win rates don't seem to have any negative or positive correlation with admission changes. However, this perspective could be emphasized because there are very few schools with high win rates."
   ]
  },
  {
   "cell_type": "code",
   "execution_count": 27,
   "id": "spread-mechanics",
   "metadata": {},
   "outputs": [
    {
     "data": {
      "image/png": "[encoded data removed]",
      "text/plain": [
       "<Figure size 842.4x595.44 with 1 Axes>"
      ]
     },
     "metadata": {},
     "output_type": "display_data"
    }
   ],
   "source": [
    "sns.set_theme(style=\"white\")\n",
    "sns.set_style({'axes.facecolor':'white', 'grid.color': '.5', 'font.family':'Times New Roman'})\n",
    "sns.scatterplot(data=admissionsalary, x=\"Win Rate\", y=\"Admission Change\", hue='Salary',sizes=(50,500),size=\"Salary\", alpha= 0.70).set(title = \"Win Rates effect on Admission Change, Color Coded by Salary\")\n",
    "plt.savefig('datavisualizations/WinRateAdmissionChangewithSalary.png')"
   ]
  },
  {
   "cell_type": "markdown",
   "id": "humanitarian-hypothesis",
   "metadata": {},
   "source": [
    "The following visualization attempts to paint any pattern between head coach salary and win rate but ultimately finds nothing of real value."
   ]
  },
  {
   "cell_type": "code",
   "execution_count": 28,
   "id": "excess-match",
   "metadata": {
    "scrolled": false
   },
   "outputs": [
    {
     "data": {
      "image/png": "[encoded data removed]",
      "text/plain": [
       "<Figure size 842.4x595.44 with 2 Axes>"
      ]
     },
     "metadata": {},
     "output_type": "display_data"
    }
   ],
   "source": [
    "fig, ax = plt.subplots()\n",
    "g = sns.histplot(\n",
    "    admissionsalary, x=\"Salary\", y=\"Win Rate\", bins = 10, thresh = None,\n",
    "    cbar= True\n",
    ")\n",
    "plt.xticks(range(0, 5500000, 500000))\n",
    "ax.set(xlabel = \"Salary per Million\", ylabel = \"Win Rate\", title = \"Head Coach Salary on Win Rate\")\n",
    "plt.savefig('datavisualizations/SalaryAdmissions.png')"
   ]
  },
  {
   "cell_type": "markdown",
   "id": "necessary-leather",
   "metadata": {},
   "source": [
    "# Discussion"
   ]
  },
  {
   "cell_type": "markdown",
   "id": "announced-conversion",
   "metadata": {},
   "source": [
    "Given that my findings disprove the Flutie effect, I think that there needs to be furhter reevaluation about why so much money being attributed to school sports and why is even more of that money going to these head coaches. In the past several years the amount of funding given to faculty at University of Washington has increaseed by nearly ten million.\n",
    "\n",
    "Collegiate coach salary is becoming a huge problem which I believe is a massive concern when it comes to NCAA scandals and corruption. It comes off that the"
   ]
  },
  {
   "cell_type": "markdown",
   "id": "controlled-wales",
   "metadata": {},
   "source": [
    "# Conclusion\n",
    "\n",
    "I merged the NCAA college football dataset with the college scorecard dataset to determine the impact that the college football coach has on college admission. I randomly sampled 60 universities at different years and annotated these datasets with the head coach football salary at the given time. In determining if there was any relationship I ran two pearson coefficient functions between admission rates and win rates and admission rates and coach salary. Both suggest that to no significant degree that coach salary and football winnings has on a university prestige and suggests the Flutie effect to be false."
   ]
  }
 ],
 "metadata": {
  "kernelspec": {
   "display_name": "Python 3",
   "language": "python",
   "name": "python3"
  },
  "language_info": {
   "codemirror_mode": {
    "name": "ipython",
    "version": 3
   },
   "file_extension": ".py",
   "mimetype": "text/x-python",
   "name": "python",
   "nbconvert_exporter": "python",
   "pygments_lexer": "ipython3",
   "version": "3.7.2"
  }
 },
 "nbformat": 4,
 "nbformat_minor": 5
}
