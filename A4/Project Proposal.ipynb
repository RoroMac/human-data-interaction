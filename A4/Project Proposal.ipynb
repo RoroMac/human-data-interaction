{
 "cells": [
  {
   "cell_type": "markdown",
   "id": "smooth-decade",
   "metadata": {},
   "source": [
    "## Motivation\n",
    "\n",
    "Out of all of Washington state’s (not the university) employees, the highest paid are head coaches employed at [public institutions](https://fiscal.wa.gov/Salaries.aspx). These salaries range from 1-3 million per year, exceeding even the university president. This isn’t unique to Washington-based universities. The 20 most well paid state employees of California are [head coaches belonging to basketball or football](https://www.google.com/url?q=https://transparentcalifornia.com/salaries/all/&sa=D&source=docs&ust=1651889083939114&usg=AOvVaw2dypMm6Sq2xGeZNk4dSH_Z). It’s commonly defended that these people are paid more because of their positive impact in generating profit for the university. The reality is that very few athletic departments have a [net positive revenue](https://www.bestcolleges.com/news/analysis/2020/11/20/do-college-sports-make-money/). Another argument is that athletic wins impact the number of university applicants. And while this was identified to be [true in 2009](https://www.researchgate.net/publication/23780052_The_Impact_of_College_Sports_Success_on_the_Quantity_and_Quality_of_Student_Applications#:~:text=Key%20findings%20include%20the%20following,in%20application%20rates%20after%20sports), it’s unsure whether this trend holds up 12 years later. And the last point of contention is the rampant corruption that occurs in collegiate sports. What made athletic sports the prime target for bribery schemes in [admission scandals](https://www.npr.org/2022/04/09/1091862034/college-admissions-scam-conviction-coach)? "
   ]
  },
  {
   "cell_type": "markdown",
   "id": "abandoned-gateway",
   "metadata": {},
   "source": [
    "## Data\n",
    "\n",
    "The two datasets that I anticipate using are those in college basketball and college football, the “money-maker” sports of collegiate athletics. [College basketball](https://www.kaggle.com/datasets/andrewsundberg/college-basketball-dataset) has yearly data describing the games played, win-lose rate, and conference level per each individual institution. I’m most interested in the power-rate variable to determine top tier teams. The [college football dataset](https://www.kaggle.com/datasets/jeffgallini/college-football-team-stats-2019?select=cfb21.csv) also has yearly data at the institutional level to describe win-lose rate. Both of these datasets can be used to identify the college athletic performance over time. I could compare these results with the [college scorecard dataset](https://collegescorecard.ed.gov/data/) to understand enrollment changes over time. Relevant fields would include full time enrollment cost-of-attendance, average faculty salary, admission rate, and counts of international students. I believe that all three datasets would be useful at identifying trends to determine whether sports had any impact on cost of attendance or admissions.The basketball dataset is public domain while the football dataset is covered under an open data commons license. I can’t find a license for the USDE college scorecard dataset, but I assume that it is also public domain. "
   ]
  },
  {
   "cell_type": "markdown",
   "id": "running-tower",
   "metadata": {},
   "source": [
    "## Unknowns\n",
    "\n",
    "While there are sites that can tell me the number of applicants individual universities have received during a particular year, there are no sites that I have found that can provide me with an exact dataset. Similarly head coach salaries and number of applicants per university would have to be found manually to create a dataset. The biggest barriers include balancing this project with my capstone project which I will prioritize. "
   ]
  },
  {
   "cell_type": "markdown",
   "id": "imported-possible",
   "metadata": {},
   "source": [
    "## Feedback\n",
    "\n",
    "My original idea was about university financial transparency and Washington state employee salary data. The feedback given by my peers was about how I was defining transparency and what conclusions I could get from salary data. Instead of focusing on individual salaries as university transparency, looking at school-wide data instead. Instead of asking how a state employee can have a salary of 3-million, I could focus on a more quantifiable, do sports have a significant impact on the university?"
   ]
  }
 ],
 "metadata": {
  "kernelspec": {
   "display_name": "Python 3",
   "language": "python",
   "name": "python3"
  },
  "language_info": {
   "codemirror_mode": {
    "name": "ipython",
    "version": 3
   },
   "file_extension": ".py",
   "mimetype": "text/x-python",
   "name": "python",
   "nbconvert_exporter": "python",
   "pygments_lexer": "ipython3",
   "version": "3.7.2"
  }
 },
 "nbformat": 4,
 "nbformat_minor": 5
}
