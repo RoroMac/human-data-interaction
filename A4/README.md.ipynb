{
 "cells": [
  {
   "cell_type": "markdown",
   "id": "dying-climate",
   "metadata": {},
   "source": [
    "# A4: Final Project\n",
    "\n",
    "The final project for HCDE410 investigating the impact that collegiate sports have on their universities. This repo is protected under the MIT license."
   ]
  },
  {
   "cell_type": "code",
   "execution_count": null,
   "id": "decimal-idaho",
   "metadata": {},
   "outputs": [],
   "source": []
  }
 ],
 "metadata": {
  "kernelspec": {
   "display_name": "Python 3",
   "language": "python",
   "name": "python3"
  },
  "language_info": {
   "codemirror_mode": {
    "name": "ipython",
    "version": 3
   },
   "file_extension": ".py",
   "mimetype": "text/x-python",
   "name": "python",
   "nbconvert_exporter": "python",
   "pygments_lexer": "ipython3",
   "version": "3.7.2"
  }
 },
 "nbformat": 4,
 "nbformat_minor": 5
}
