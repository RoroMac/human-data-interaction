{
 "cells": [
  {
   "cell_type": "markdown",
   "id": "dying-climate",
   "metadata": {},
   "source": [
    "# A4: Final Project\n",
    "\n",
    "The final project for HCDE410 investigating the impact that collegiate sports have on their universities. This repo is protected under the MIT license."
   ]
  },
  {
   "cell_type": "markdown",
   "id": "challenging-weather",
   "metadata": {},
   "source": [
    "I merged the NCAA college football dataset with the college scorecard dataset to determine the impact that the college football coach has on college admission. I randomly sampled 60 universities at different years and annotated these datasets with the head coach football salary at the given time. In determining if there was any relationship I ran two pearson coefficient functions between admission rates and win rates and admission rates and coach salary. Both suggest that to no significant degree that coach salary and football winnings has on a university prestige and suggests the Flutie effect to be false."
   ]
  },
  {
   "cell_type": "code",
   "execution_count": null,
   "id": "functioning-country",
   "metadata": {},
   "outputs": [],
   "source": []
  }
 ],
 "metadata": {
  "kernelspec": {
   "display_name": "Python 3",
   "language": "python",
   "name": "python3"
  },
  "language_info": {
   "codemirror_mode": {
    "name": "ipython",
    "version": 3
   },
   "file_extension": ".py",
   "mimetype": "text/x-python",
   "name": "python",
   "nbconvert_exporter": "python",
   "pygments_lexer": "ipython3",
   "version": "3.7.2"
  }
 },
 "nbformat": 4,
 "nbformat_minor": 5
}
